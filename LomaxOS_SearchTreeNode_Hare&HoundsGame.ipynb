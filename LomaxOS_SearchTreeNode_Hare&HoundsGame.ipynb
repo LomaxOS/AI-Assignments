{
  "nbformat": 4,
  "nbformat_minor": 0,
  "metadata": {
    "colab": {
      "provenance": [],
      "authorship_tag": "ABX9TyPK2HTnuAh/GdO0F3JZPmM/",
      "include_colab_link": true
    },
    "kernelspec": {
      "name": "python3",
      "display_name": "Python 3"
    },
    "language_info": {
      "name": "python"
    }
  },
  "cells": [
    {
      "cell_type": "markdown",
      "metadata": {
        "id": "view-in-github",
        "colab_type": "text"
      },
      "source": [
        "<a href=\"https://colab.research.google.com/github/LomaxOS/AI-Assignments/blob/main/LomaxOS_SearchTreeNode_Hare%26HoundsGame.ipynb\" target=\"_parent\"><img src=\"https://colab.research.google.com/assets/colab-badge.svg\" alt=\"Open In Colab\"/></a>"
      ]
    },
    {
      "cell_type": "code",
      "execution_count": null,
      "metadata": {
        "id": "L1bCDyQqcmMg"
      },
      "outputs": [],
      "source": [
        "#hare and hounds game\n",
        "from collections import defaultdict\n",
        "\n",
        "class CurrentBoard:\n",
        "    def __init__(self, board = None):\n",
        "\n",
        "        # initiate with the hounds at 0, 1, 3 and hare at 10\n",
        "        self.board = board if board is not None else ['Dog', 'Dog', ' ', 'Dog', ' ', ' ', ' ', ' ', ' ', ' ', 'Hare']\n",
        "\n",
        "        #Allowed moves of dogs\n",
        "        self.allowed_moves_for_dog = defaultdict(list, {\n",
        "            0: [1, 2, 3],\n",
        "            1: [2, 4, 5],\n",
        "            2: [1, 3, 5],\n",
        "            3: [2, 4, 5],\n",
        "            4: [5, 9],\n",
        "            5: [4, 6, 7, 8, 9],\n",
        "            6: [5, 7],\n",
        "            7: [8, 10],\n",
        "            8: [7, 9, 10],\n",
        "            9: [8, 10]\n",
        "        })\n",
        "        #the adjancency list of all possible moves for each location on the board\n",
        "        self.moves_at_location_of = defaultdict(list, {\n",
        "            0: [1, 2, 3],\n",
        "            1: [0, 2, 5, 6],\n",
        "            2: [0, 1, 3, 5],\n",
        "            3: [0, 2, 5, 4],\n",
        "            4: [3, 5, 9],\n",
        "            5: [1, 2, 3, 4, 6, 7, 8, 9],\n",
        "            6: [1, 5, 7],\n",
        "            7: [6, 5, 8, 10],\n",
        "            8: [5, 7, 9, 10],\n",
        "            9: [5, 4, 8, 10],\n",
        "            10: [7, 8, 9]\n",
        "        })\n",
        "\n",
        "        self.state = self.state_of_board()\n",
        "\n",
        "\n",
        "    # Display the board\n",
        "    def display(self):\n",
        "        pos = self.board\n",
        "\n",
        "        print(\"       1({})------ 6({})------ 7({})\".format(pos[1], pos[6], pos[7]))\n",
        "        print(\"   /       |    \\     |    /     |    \\\\\")\n",
        "        print(\"0({})---2({})------ 5({})------ 8({})---- 10({})\".format(pos[0], pos[2], pos[5], pos[8], pos[10]))\n",
        "        print(\"   \\       |    /     |    \\     |    /\")\n",
        "        print(\"       3({})------ 4({})------ 9({})\".format(pos[3], pos[4], pos[9]))\n",
        "\n",
        "\n",
        "\n",
        "    #switch from current player\n",
        "    def other(self,piece):\n",
        "      if piece == \"Dog\":\n",
        "        return \"Hare\"\n",
        "      return \"Dog\"\n",
        " #get all possible moves at the index location - for instance: index 2 will have [0, 1, 3, 5]\n",
        "    #Get all possible moves\n",
        "    def all_possible_moves(self, player_piece):\n",
        "\n",
        "        list_of_possible_moves = []\n",
        "\n",
        "        for index, spot in enumerate(self.board):\n",
        "\n",
        "            if spot == player_piece:\n",
        "\n",
        "                adjacent_moves_location = self.moves_at_location_of[index]#Get\n",
        "\n",
        "                for aLoc in adjacent_moves_location:\n",
        "\n",
        "                    if self.is_an_empty_space_at(aLoc):\n",
        "\n",
        "                        if player_piece == 'Dog' and self.is_not_a_backward_move(index, aLoc): #Ensure no backward moves\n",
        "\n",
        "                          list_of_possible_moves.append(CurrentBoard(self.get_description_for(player_piece, index, aLoc)))\n",
        "\n",
        "        return list_of_possible_moves\n",
        "\n",
        "\n",
        "    #return true if a location adjacent to this index is empty\n",
        "    def is_an_empty_space_at(self, loc):\n",
        "        return self.board[loc] == ' '\n",
        "\n",
        "    #check Dogs allowed moves\n",
        "    #return true if new_location is on the list of allowed moves from current_location\n",
        "    def is_not_a_backward_move(self, current_location, new_location):\n",
        "\n",
        "        return new_location in self.allowed_moves_for_dog[current_location]\n",
        "\n",
        "    #return new board\n",
        "    def get_description_for(self, piece, current_location, new_location):\n",
        "\n",
        "      new_board = self.board[:]\n",
        "      new_board[new_location] = piece\n",
        "      new_board[current_location] = ' '\n",
        "\n",
        "      return new_board\n",
        "\n",
        "    #winning state based on the hare location\n",
        "    def state_of_board(self):\n",
        "\n",
        "      hare_location = self.board.index('Hare')\n",
        "      hare_moves = self.moves_at_location_of[hare_location]\n",
        "\n",
        "      # Check if the hare is trapped\n",
        "      is_hare_trapped = True\n",
        "\n",
        "      for loc in hare_moves:\n",
        "          if self.board[loc] == ' ':  #Check if there is at least one free space around the hare\n",
        "              is_hare_trapped = False\n",
        "              break\n",
        "\n",
        "      if is_hare_trapped:\n",
        "          return \"Dogs\"  #dogs win\n",
        "\n",
        "      # winning conditions for the Hare\n",
        "      hare_winning_locations = {\n",
        "          1: [0],\n",
        "          2: [0],\n",
        "          3: [0],\n",
        "          4: [0, 2, 3],\n",
        "          5: [1, 2],\n",
        "          6: [0, 1, 2]\n",
        "      }\n",
        "\n",
        "      # check if the Hare is in any of its winning locations\n",
        "      if hare_location in hare_winning_locations:\n",
        "\n",
        "          if all(self.board[loc] == ' ' for loc in hare_winning_locations[hare_location]):\n",
        "              return \"Hare\"\n",
        "\n",
        "      return \"Continue\"\n",
        "\n"
      ]
    },
    {
      "cell_type": "code",
      "source": [
        "cd = CurrentBoard()"
      ],
      "metadata": {
        "id": "M0lnjEuHMBkc"
      },
      "execution_count": null,
      "outputs": []
    },
    {
      "cell_type": "code",
      "source": [
        "cd.display()"
      ],
      "metadata": {
        "colab": {
          "base_uri": "https://localhost:8080/"
        },
        "id": "8d49dj9gNhV5",
        "outputId": "e82fdaa9-94a2-4e90-c524-b1a0e90f12f5"
      },
      "execution_count": null,
      "outputs": [
        {
          "output_type": "stream",
          "name": "stdout",
          "text": [
            "       1(Dog)------ 6( )------ 7( )\n",
            "   /       |    \\     |    /     |    \\\n",
            "0(Dog)---2( )------ 5( )------ 8( )---- 10(Hare)\n",
            "   \\       |    /     |    \\     |    /\n",
            "       3(Dog)------ 4( )------ 9( )\n"
          ]
        }
      ]
    },
    {
      "cell_type": "code",
      "source": [
        "class SearchTreeNode:\n",
        "    def __init__(self, board_instance, playing_as, ply=0):\n",
        "        self.children = []\n",
        "        self.value_is_assigned = False\n",
        "        self.ply_depth = ply\n",
        "        self.current_board = board_instance\n",
        "        self.move_for = playing_as\n",
        "        self.value = 0\n",
        "\n",
        "        game_state = self.current_board.state\n",
        "\n",
        "        if game_state == \"Continue\":\n",
        "\n",
        "            self.generate_children()\n",
        "        else:\n",
        "            #Assigning values based on the game state\n",
        "            if game_state == \"Dogs\":\n",
        "\n",
        "              if playing_as == \"Dog\":\n",
        "                self.value = 1\n",
        "              else :\n",
        "                self.value = -1\n",
        "\n",
        "            elif game_state == \"Hare\":\n",
        "\n",
        "              if playing_as == \"Hare\":\n",
        "                self.value = 1\n",
        "              else:\n",
        "                self.value = -1\n",
        "            self.value_is_assigned = True\n",
        "\n",
        "    def min_max_value(self):\n",
        "        if self.value_is_assigned:\n",
        "            return self.value\n",
        "\n",
        "        if (self.ply_depth % 2) == 0:  #Max player's move\n",
        "            self.value = float('-inf')\n",
        "            for child in self.children:\n",
        "                child_value = child.min_max_value()\n",
        "                self.value = max(self.value, child_value)\n",
        "        else:  #Min player's move\n",
        "            self.value = float('inf')\n",
        "            for child in self.children:\n",
        "                child_value = child.min_max_value()\n",
        "                self.value = min(self.value, child_value)\n",
        "\n",
        "        self.value_is_assigned = True\n",
        "        return self.value\n",
        "\n",
        "    def generate_children(self):\n",
        "        for board_for_next_move in self.current_board.all_possible_moves(self.move_for):\n",
        "            self.children.append(SearchTreeNode(board_for_next_move, self.current_board.other(self.move_for), ply=self.ply_depth + 1))"
      ],
      "metadata": {
        "id": "t4T_ft1keCME"
      },
      "execution_count": null,
      "outputs": []
    },
    {
      "cell_type": "code",
      "source": [],
      "metadata": {
        "id": "wYk6QXBx7N-v"
      },
      "execution_count": null,
      "outputs": []
    },
    {
      "cell_type": "code",
      "source": [
        "def play_Hare_and_Hounds():\n",
        "\n",
        "  response = input(\"Do you wish to play first (y/n) ?\")\n",
        "  players_turn  = (response == \"y\")\n",
        "\n",
        "  response = input(\"Do you wish to play Hare or Dogs  (Hare/Dog) ?\")\n",
        "  cb = CurrentBoard()\n",
        "  player_is_playing = cb.other(cb.other(response))\n",
        "\n",
        "\n",
        "  while cb.state_of_board() == \"Continue\":\n",
        "    if players_turn:\n",
        "      cb.display()\n",
        "      print(\"Current positions:\", cb.board)\n",
        "      current_location = int(input(\"Move from: \"))\n",
        "      new_location = int(input(\"Move to: \"))\n",
        "\n",
        "      cb = CurrentBoard(cb.get_description_for(player_is_playing, current_location, new_location))\n",
        "    else:\n",
        "      search_tree = SearchTreeNode(cb,cb.other(player_is_playing))\n",
        "      search_tree.min_max_value()\n",
        "      cb = search_tree.children[-1].current_board\n",
        "\n",
        "    if cb.state_of_board() != \"Continue\":\n",
        "        cb.display()\n",
        "        if cb.state_of_board() == \"Hare\":\n",
        "          print(\"Hare wins!\")\n",
        "        else:\n",
        "          print(\"Dogs wins!\")\n",
        "\n",
        "        break\n",
        "\n",
        "    players_turn = not players_turn\n",
        "\n",
        "if __name__ == \"__main__\":\n",
        "    play_Hare_and_Hounds()"
      ],
      "metadata": {
        "id": "CYd9J2kPrMLK"
      },
      "execution_count": null,
      "outputs": []
    },
    {
      "cell_type": "code",
      "source": [],
      "metadata": {
        "id": "GBP3pv5M7f0V"
      },
      "execution_count": null,
      "outputs": []
    },
    {
      "cell_type": "code",
      "source": [],
      "metadata": {
        "id": "R2i8lqdACPOd"
      },
      "execution_count": null,
      "outputs": []
    }
  ]
}