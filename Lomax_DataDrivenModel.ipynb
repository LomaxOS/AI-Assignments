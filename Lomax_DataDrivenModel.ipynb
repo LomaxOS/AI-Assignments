{
  "cells": [
    {
      "cell_type": "markdown",
      "metadata": {
        "id": "view-in-github",
        "colab_type": "text"
      },
      "source": [
        "<a href=\"https://colab.research.google.com/github/LomaxOS/AI-Assignments/blob/main/Lomax_DataDrivenModel.ipynb\" target=\"_parent\"><img src=\"https://colab.research.google.com/assets/colab-badge.svg\" alt=\"Open In Colab\"/></a>"
      ]
    },
    {
      "cell_type": "markdown",
      "source": [
        "# **Stage 1**\n",
        "---\n",
        "## **Selected Datasets and the Model**\n",
        "---\n",
        "\n",
        "**First Dataset**: A laptop specs dataset from the link below. It contains different specifications of more than 500 laptops.\n",
        "\n",
        "**URL Link**: https://www.kaggle.com/datasets/kuchhbhi/latest-laptop-price-list\n",
        "\n",
        "**Second Dataset**: The CPU and GPU specs dataset from the link below is selected to be linked with the laptop dataset.\n",
        "\n",
        "**URL Link**: https://www.kaggle.com/datasets/michaelbryantds/cpu-and-gpu-product-data\n",
        "\n",
        "**Model**: Linear Regression was selected to model and predict factors that affect laptop prices.\"\n",
        "\n",
        "\n",
        "---\n",
        "\n",
        "\n"
      ],
      "metadata": {
        "id": "sgQZcH7afs47"
      }
    },
    {
      "cell_type": "markdown",
      "source": [
        "# **Stage 2**\n",
        "\n",
        "Objective: The purpose of this project is to examine a variety of laptops to understand how their prices are affected by the attributes of their processors, with a specific focus on frequencies. The laptop dataset includes various processors but lacks detailed specifications. Therefore, the processor frequencies are retrieved from the CPU and GPU specs dataset. This additional data enables the model to predict how the frequencies of specific processors affect laptop prices.\n"
      ],
      "metadata": {
        "id": "ZYY0zY7l60al"
      }
    },
    {
      "cell_type": "markdown",
      "source": [
        "# **Stage 3**\n",
        "\n",
        "Data Inspection and Cleaning."
      ],
      "metadata": {
        "id": "lOryoDWNZ5-B"
      }
    },
    {
      "cell_type": "code",
      "source": [
        "import numpy as np\n",
        "import pandas as pd\n",
        "\n",
        "import matplotlib.pyplot as plt\n",
        "import seaborn as sns"
      ],
      "metadata": {
        "id": "xnK73v7R688t"
      },
      "execution_count": null,
      "outputs": []
    },
    {
      "cell_type": "code",
      "source": [
        "laptop_data = pd.read_csv(\"/content/Cleaned_Laptop_data.csv\")\n",
        "chip_data = pd.read_csv(\"/content/chip_dataset.csv\")"
      ],
      "metadata": {
        "id": "tYv5RSWtYoub"
      },
      "execution_count": null,
      "outputs": []
    },
    {
      "cell_type": "code",
      "source": [
        "laptop_data.head()"
      ],
      "metadata": {
        "id": "q8fTKUCOxrMZ"
      },
      "execution_count": null,
      "outputs": []
    },
    {
      "cell_type": "code",
      "source": [
        "chip_data.head()"
      ],
      "metadata": {
        "id": "tPvx_1HQxu0G"
      },
      "execution_count": null,
      "outputs": []
    },
    {
      "cell_type": "code",
      "source": [
        "#Display the structure of the laptop dataset\n",
        "print(laptop_data.info())"
      ],
      "metadata": {
        "id": "qwrGoJOuVvtR"
      },
      "execution_count": null,
      "outputs": []
    },
    {
      "cell_type": "code",
      "source": [
        "#Display the structure of the chip dataset\n",
        "print(chip_data .info())"
      ],
      "metadata": {
        "id": "vZDvGY3pVyFk",
        "colab": {
          "base_uri": "https://localhost:8080/"
        },
        "outputId": "40d17976-7770-4b25-83e5-17e6b170fa85"
      },
      "execution_count": null,
      "outputs": [
        {
          "output_type": "stream",
          "name": "stdout",
          "text": [
            "<class 'pandas.core.frame.DataFrame'>\n",
            "RangeIndex: 4854 entries, 0 to 4853\n",
            "Data columns (total 14 columns):\n",
            " #   Column                 Non-Null Count  Dtype  \n",
            "---  ------                 --------------  -----  \n",
            " 0   Unnamed: 0             4854 non-null   int64  \n",
            " 1   Product                4854 non-null   object \n",
            " 2   Type                   4854 non-null   object \n",
            " 3   Release Date           4854 non-null   object \n",
            " 4   Process Size (nm)      4845 non-null   float64\n",
            " 5   TDP (W)                4228 non-null   float64\n",
            " 6   Die Size (mm^2)        4139 non-null   float64\n",
            " 7   Transistors (million)  4143 non-null   float64\n",
            " 8   Freq (MHz)             4854 non-null   int64  \n",
            " 9   Foundry                4854 non-null   object \n",
            " 10  Vendor                 4854 non-null   object \n",
            " 11  FP16 GFLOPS            536 non-null    float64\n",
            " 12  FP32 GFLOPS            1948 non-null   float64\n",
            " 13  FP64 GFLOPS            1306 non-null   float64\n",
            "dtypes: float64(7), int64(2), object(5)\n",
            "memory usage: 531.0+ KB\n",
            "None\n"
          ]
        }
      ]
    },
    {
      "cell_type": "code",
      "source": [
        "#In the laptop_data, processor_brand is selected as input, with the focus on AMD brand\n",
        "#laptop_processors = laptop_data[laptop_data['processor_brand'].str.contains(r'^\\s*AMD', case=False, na=False)]"
      ],
      "metadata": {
        "id": "eltKjRdPY39H"
      },
      "execution_count": null,
      "outputs": []
    },
    {
      "cell_type": "code",
      "source": [
        "#laptop_processors"
      ],
      "metadata": {
        "id": "_n4wMFTabBL_"
      },
      "execution_count": null,
      "outputs": []
    },
    {
      "cell_type": "code",
      "source": [
        "#laptop dataset - Dropping the processor_name in the laptop_data in order to replace it with Product column of chip_data\n",
        "laptop_data = laptop_data.drop('processor_name', axis=1)\n",
        "laptop_data.head()"
      ],
      "metadata": {
        "id": "NChnWa_y6ZYF",
        "colab": {
          "base_uri": "https://localhost:8080/",
          "height": 342
        },
        "outputId": "7867eeaa-9fab-4928-c76c-4bd14de9238a"
      },
      "execution_count": null,
      "outputs": [
        {
          "output_type": "execute_result",
          "data": {
            "text/plain": [
              "    brand    model processor_brand processor_gnrtn   ram_gb ram_type     ssd  \\\n",
              "0  Lenovo  A6-9225             AMD            10th  4 GB GB     DDR4    0 GB   \n",
              "1  Lenovo  Ideapad             AMD            10th  4 GB GB     DDR4    0 GB   \n",
              "2   Avita     PURA             AMD            10th  4 GB GB     DDR4  128 GB   \n",
              "3   Avita     PURA             AMD            10th  4 GB GB     DDR4  128 GB   \n",
              "4   Avita     PURA             AMD            10th  4 GB GB     DDR4  256 GB   \n",
              "\n",
              "       hdd       os  os_bit  ...  display_size warranty Touchscreen  msoffice  \\\n",
              "0  1024 GB  Windows  64-bit  ...       Missing        0          No        No   \n",
              "1   512 GB  Windows  64-bit  ...       Missing        0          No        No   \n",
              "2     0 GB  Windows  64-bit  ...       Missing        0          No        No   \n",
              "3     0 GB  Windows  64-bit  ...       Missing        0          No        No   \n",
              "4     0 GB  Windows  64-bit  ...       Missing        0          No        No   \n",
              "\n",
              "  latest_price old_price  discount  star_rating  ratings  reviews  \n",
              "0        24990     32790        23          3.7       63       12  \n",
              "1        19590     21325         8          3.6     1894      256  \n",
              "2        19990     27990        28          3.7     1153      159  \n",
              "3        21490     27990        23          3.7     1153      159  \n",
              "4        24990     33490        25          3.7     1657      234  \n",
              "\n",
              "[5 rows x 22 columns]"
            ],
            "text/html": [
              "\n",
              "  <div id=\"df-9b6c711f-cbf7-4ba8-ad6e-242903accd4b\" class=\"colab-df-container\">\n",
              "    <div>\n",
              "<style scoped>\n",
              "    .dataframe tbody tr th:only-of-type {\n",
              "        vertical-align: middle;\n",
              "    }\n",
              "\n",
              "    .dataframe tbody tr th {\n",
              "        vertical-align: top;\n",
              "    }\n",
              "\n",
              "    .dataframe thead th {\n",
              "        text-align: right;\n",
              "    }\n",
              "</style>\n",
              "<table border=\"1\" class=\"dataframe\">\n",
              "  <thead>\n",
              "    <tr style=\"text-align: right;\">\n",
              "      <th></th>\n",
              "      <th>brand</th>\n",
              "      <th>model</th>\n",
              "      <th>processor_brand</th>\n",
              "      <th>processor_gnrtn</th>\n",
              "      <th>ram_gb</th>\n",
              "      <th>ram_type</th>\n",
              "      <th>ssd</th>\n",
              "      <th>hdd</th>\n",
              "      <th>os</th>\n",
              "      <th>os_bit</th>\n",
              "      <th>...</th>\n",
              "      <th>display_size</th>\n",
              "      <th>warranty</th>\n",
              "      <th>Touchscreen</th>\n",
              "      <th>msoffice</th>\n",
              "      <th>latest_price</th>\n",
              "      <th>old_price</th>\n",
              "      <th>discount</th>\n",
              "      <th>star_rating</th>\n",
              "      <th>ratings</th>\n",
              "      <th>reviews</th>\n",
              "    </tr>\n",
              "  </thead>\n",
              "  <tbody>\n",
              "    <tr>\n",
              "      <th>0</th>\n",
              "      <td>Lenovo</td>\n",
              "      <td>A6-9225</td>\n",
              "      <td>AMD</td>\n",
              "      <td>10th</td>\n",
              "      <td>4 GB GB</td>\n",
              "      <td>DDR4</td>\n",
              "      <td>0 GB</td>\n",
              "      <td>1024 GB</td>\n",
              "      <td>Windows</td>\n",
              "      <td>64-bit</td>\n",
              "      <td>...</td>\n",
              "      <td>Missing</td>\n",
              "      <td>0</td>\n",
              "      <td>No</td>\n",
              "      <td>No</td>\n",
              "      <td>24990</td>\n",
              "      <td>32790</td>\n",
              "      <td>23</td>\n",
              "      <td>3.7</td>\n",
              "      <td>63</td>\n",
              "      <td>12</td>\n",
              "    </tr>\n",
              "    <tr>\n",
              "      <th>1</th>\n",
              "      <td>Lenovo</td>\n",
              "      <td>Ideapad</td>\n",
              "      <td>AMD</td>\n",
              "      <td>10th</td>\n",
              "      <td>4 GB GB</td>\n",
              "      <td>DDR4</td>\n",
              "      <td>0 GB</td>\n",
              "      <td>512 GB</td>\n",
              "      <td>Windows</td>\n",
              "      <td>64-bit</td>\n",
              "      <td>...</td>\n",
              "      <td>Missing</td>\n",
              "      <td>0</td>\n",
              "      <td>No</td>\n",
              "      <td>No</td>\n",
              "      <td>19590</td>\n",
              "      <td>21325</td>\n",
              "      <td>8</td>\n",
              "      <td>3.6</td>\n",
              "      <td>1894</td>\n",
              "      <td>256</td>\n",
              "    </tr>\n",
              "    <tr>\n",
              "      <th>2</th>\n",
              "      <td>Avita</td>\n",
              "      <td>PURA</td>\n",
              "      <td>AMD</td>\n",
              "      <td>10th</td>\n",
              "      <td>4 GB GB</td>\n",
              "      <td>DDR4</td>\n",
              "      <td>128 GB</td>\n",
              "      <td>0 GB</td>\n",
              "      <td>Windows</td>\n",
              "      <td>64-bit</td>\n",
              "      <td>...</td>\n",
              "      <td>Missing</td>\n",
              "      <td>0</td>\n",
              "      <td>No</td>\n",
              "      <td>No</td>\n",
              "      <td>19990</td>\n",
              "      <td>27990</td>\n",
              "      <td>28</td>\n",
              "      <td>3.7</td>\n",
              "      <td>1153</td>\n",
              "      <td>159</td>\n",
              "    </tr>\n",
              "    <tr>\n",
              "      <th>3</th>\n",
              "      <td>Avita</td>\n",
              "      <td>PURA</td>\n",
              "      <td>AMD</td>\n",
              "      <td>10th</td>\n",
              "      <td>4 GB GB</td>\n",
              "      <td>DDR4</td>\n",
              "      <td>128 GB</td>\n",
              "      <td>0 GB</td>\n",
              "      <td>Windows</td>\n",
              "      <td>64-bit</td>\n",
              "      <td>...</td>\n",
              "      <td>Missing</td>\n",
              "      <td>0</td>\n",
              "      <td>No</td>\n",
              "      <td>No</td>\n",
              "      <td>21490</td>\n",
              "      <td>27990</td>\n",
              "      <td>23</td>\n",
              "      <td>3.7</td>\n",
              "      <td>1153</td>\n",
              "      <td>159</td>\n",
              "    </tr>\n",
              "    <tr>\n",
              "      <th>4</th>\n",
              "      <td>Avita</td>\n",
              "      <td>PURA</td>\n",
              "      <td>AMD</td>\n",
              "      <td>10th</td>\n",
              "      <td>4 GB GB</td>\n",
              "      <td>DDR4</td>\n",
              "      <td>256 GB</td>\n",
              "      <td>0 GB</td>\n",
              "      <td>Windows</td>\n",
              "      <td>64-bit</td>\n",
              "      <td>...</td>\n",
              "      <td>Missing</td>\n",
              "      <td>0</td>\n",
              "      <td>No</td>\n",
              "      <td>No</td>\n",
              "      <td>24990</td>\n",
              "      <td>33490</td>\n",
              "      <td>25</td>\n",
              "      <td>3.7</td>\n",
              "      <td>1657</td>\n",
              "      <td>234</td>\n",
              "    </tr>\n",
              "  </tbody>\n",
              "</table>\n",
              "<p>5 rows × 22 columns</p>\n",
              "</div>\n",
              "    <div class=\"colab-df-buttons\">\n",
              "\n",
              "  <div class=\"colab-df-container\">\n",
              "    <button class=\"colab-df-convert\" onclick=\"convertToInteractive('df-9b6c711f-cbf7-4ba8-ad6e-242903accd4b')\"\n",
              "            title=\"Convert this dataframe to an interactive table.\"\n",
              "            style=\"display:none;\">\n",
              "\n",
              "  <svg xmlns=\"http://www.w3.org/2000/svg\" height=\"24px\" viewBox=\"0 -960 960 960\">\n",
              "    <path d=\"M120-120v-720h720v720H120Zm60-500h600v-160H180v160Zm220 220h160v-160H400v160Zm0 220h160v-160H400v160ZM180-400h160v-160H180v160Zm440 0h160v-160H620v160ZM180-180h160v-160H180v160Zm440 0h160v-160H620v160Z\"/>\n",
              "  </svg>\n",
              "    </button>\n",
              "\n",
              "  <style>\n",
              "    .colab-df-container {\n",
              "      display:flex;\n",
              "      gap: 12px;\n",
              "    }\n",
              "\n",
              "    .colab-df-convert {\n",
              "      background-color: #E8F0FE;\n",
              "      border: none;\n",
              "      border-radius: 50%;\n",
              "      cursor: pointer;\n",
              "      display: none;\n",
              "      fill: #1967D2;\n",
              "      height: 32px;\n",
              "      padding: 0 0 0 0;\n",
              "      width: 32px;\n",
              "    }\n",
              "\n",
              "    .colab-df-convert:hover {\n",
              "      background-color: #E2EBFA;\n",
              "      box-shadow: 0px 1px 2px rgba(60, 64, 67, 0.3), 0px 1px 3px 1px rgba(60, 64, 67, 0.15);\n",
              "      fill: #174EA6;\n",
              "    }\n",
              "\n",
              "    .colab-df-buttons div {\n",
              "      margin-bottom: 4px;\n",
              "    }\n",
              "\n",
              "    [theme=dark] .colab-df-convert {\n",
              "      background-color: #3B4455;\n",
              "      fill: #D2E3FC;\n",
              "    }\n",
              "\n",
              "    [theme=dark] .colab-df-convert:hover {\n",
              "      background-color: #434B5C;\n",
              "      box-shadow: 0px 1px 3px 1px rgba(0, 0, 0, 0.15);\n",
              "      filter: drop-shadow(0px 1px 2px rgba(0, 0, 0, 0.3));\n",
              "      fill: #FFFFFF;\n",
              "    }\n",
              "  </style>\n",
              "\n",
              "    <script>\n",
              "      const buttonEl =\n",
              "        document.querySelector('#df-9b6c711f-cbf7-4ba8-ad6e-242903accd4b button.colab-df-convert');\n",
              "      buttonEl.style.display =\n",
              "        google.colab.kernel.accessAllowed ? 'block' : 'none';\n",
              "\n",
              "      async function convertToInteractive(key) {\n",
              "        const element = document.querySelector('#df-9b6c711f-cbf7-4ba8-ad6e-242903accd4b');\n",
              "        const dataTable =\n",
              "          await google.colab.kernel.invokeFunction('convertToInteractive',\n",
              "                                                    [key], {});\n",
              "        if (!dataTable) return;\n",
              "\n",
              "        const docLinkHtml = 'Like what you see? Visit the ' +\n",
              "          '<a target=\"_blank\" href=https://colab.research.google.com/notebooks/data_table.ipynb>data table notebook</a>'\n",
              "          + ' to learn more about interactive tables.';\n",
              "        element.innerHTML = '';\n",
              "        dataTable['output_type'] = 'display_data';\n",
              "        await google.colab.output.renderOutput(dataTable, element);\n",
              "        const docLink = document.createElement('div');\n",
              "        docLink.innerHTML = docLinkHtml;\n",
              "        element.appendChild(docLink);\n",
              "      }\n",
              "    </script>\n",
              "  </div>\n",
              "\n",
              "\n",
              "<div id=\"df-2a34e449-3269-4631-8fe8-85b8737ea3cd\">\n",
              "  <button class=\"colab-df-quickchart\" onclick=\"quickchart('df-2a34e449-3269-4631-8fe8-85b8737ea3cd')\"\n",
              "            title=\"Suggest charts\"\n",
              "            style=\"display:none;\">\n",
              "\n",
              "<svg xmlns=\"http://www.w3.org/2000/svg\" height=\"24px\"viewBox=\"0 0 24 24\"\n",
              "     width=\"24px\">\n",
              "    <g>\n",
              "        <path d=\"M19 3H5c-1.1 0-2 .9-2 2v14c0 1.1.9 2 2 2h14c1.1 0 2-.9 2-2V5c0-1.1-.9-2-2-2zM9 17H7v-7h2v7zm4 0h-2V7h2v10zm4 0h-2v-4h2v4z\"/>\n",
              "    </g>\n",
              "</svg>\n",
              "  </button>\n",
              "\n",
              "<style>\n",
              "  .colab-df-quickchart {\n",
              "      --bg-color: #E8F0FE;\n",
              "      --fill-color: #1967D2;\n",
              "      --hover-bg-color: #E2EBFA;\n",
              "      --hover-fill-color: #174EA6;\n",
              "      --disabled-fill-color: #AAA;\n",
              "      --disabled-bg-color: #DDD;\n",
              "  }\n",
              "\n",
              "  [theme=dark] .colab-df-quickchart {\n",
              "      --bg-color: #3B4455;\n",
              "      --fill-color: #D2E3FC;\n",
              "      --hover-bg-color: #434B5C;\n",
              "      --hover-fill-color: #FFFFFF;\n",
              "      --disabled-bg-color: #3B4455;\n",
              "      --disabled-fill-color: #666;\n",
              "  }\n",
              "\n",
              "  .colab-df-quickchart {\n",
              "    background-color: var(--bg-color);\n",
              "    border: none;\n",
              "    border-radius: 50%;\n",
              "    cursor: pointer;\n",
              "    display: none;\n",
              "    fill: var(--fill-color);\n",
              "    height: 32px;\n",
              "    padding: 0;\n",
              "    width: 32px;\n",
              "  }\n",
              "\n",
              "  .colab-df-quickchart:hover {\n",
              "    background-color: var(--hover-bg-color);\n",
              "    box-shadow: 0 1px 2px rgba(60, 64, 67, 0.3), 0 1px 3px 1px rgba(60, 64, 67, 0.15);\n",
              "    fill: var(--button-hover-fill-color);\n",
              "  }\n",
              "\n",
              "  .colab-df-quickchart-complete:disabled,\n",
              "  .colab-df-quickchart-complete:disabled:hover {\n",
              "    background-color: var(--disabled-bg-color);\n",
              "    fill: var(--disabled-fill-color);\n",
              "    box-shadow: none;\n",
              "  }\n",
              "\n",
              "  .colab-df-spinner {\n",
              "    border: 2px solid var(--fill-color);\n",
              "    border-color: transparent;\n",
              "    border-bottom-color: var(--fill-color);\n",
              "    animation:\n",
              "      spin 1s steps(1) infinite;\n",
              "  }\n",
              "\n",
              "  @keyframes spin {\n",
              "    0% {\n",
              "      border-color: transparent;\n",
              "      border-bottom-color: var(--fill-color);\n",
              "      border-left-color: var(--fill-color);\n",
              "    }\n",
              "    20% {\n",
              "      border-color: transparent;\n",
              "      border-left-color: var(--fill-color);\n",
              "      border-top-color: var(--fill-color);\n",
              "    }\n",
              "    30% {\n",
              "      border-color: transparent;\n",
              "      border-left-color: var(--fill-color);\n",
              "      border-top-color: var(--fill-color);\n",
              "      border-right-color: var(--fill-color);\n",
              "    }\n",
              "    40% {\n",
              "      border-color: transparent;\n",
              "      border-right-color: var(--fill-color);\n",
              "      border-top-color: var(--fill-color);\n",
              "    }\n",
              "    60% {\n",
              "      border-color: transparent;\n",
              "      border-right-color: var(--fill-color);\n",
              "    }\n",
              "    80% {\n",
              "      border-color: transparent;\n",
              "      border-right-color: var(--fill-color);\n",
              "      border-bottom-color: var(--fill-color);\n",
              "    }\n",
              "    90% {\n",
              "      border-color: transparent;\n",
              "      border-bottom-color: var(--fill-color);\n",
              "    }\n",
              "  }\n",
              "</style>\n",
              "\n",
              "  <script>\n",
              "    async function quickchart(key) {\n",
              "      const quickchartButtonEl =\n",
              "        document.querySelector('#' + key + ' button');\n",
              "      quickchartButtonEl.disabled = true;  // To prevent multiple clicks.\n",
              "      quickchartButtonEl.classList.add('colab-df-spinner');\n",
              "      try {\n",
              "        const charts = await google.colab.kernel.invokeFunction(\n",
              "            'suggestCharts', [key], {});\n",
              "      } catch (error) {\n",
              "        console.error('Error during call to suggestCharts:', error);\n",
              "      }\n",
              "      quickchartButtonEl.classList.remove('colab-df-spinner');\n",
              "      quickchartButtonEl.classList.add('colab-df-quickchart-complete');\n",
              "    }\n",
              "    (() => {\n",
              "      let quickchartButtonEl =\n",
              "        document.querySelector('#df-2a34e449-3269-4631-8fe8-85b8737ea3cd button');\n",
              "      quickchartButtonEl.style.display =\n",
              "        google.colab.kernel.accessAllowed ? 'block' : 'none';\n",
              "    })();\n",
              "  </script>\n",
              "</div>\n",
              "    </div>\n",
              "  </div>\n"
            ],
            "application/vnd.google.colaboratory.intrinsic+json": {
              "type": "dataframe",
              "variable_name": "laptop_data"
            }
          },
          "metadata": {},
          "execution_count": 135
        }
      ]
    },
    {
      "cell_type": "code",
      "source": [
        "#Chip dataset - In the processor_data, Product is selected as input, with the focus on AMD or Intel CPU product\n",
        "amd_intel_processors = chip_data[\n",
        "    (chip_data['Product'].str.contains(r'^\\s*AMD', case=False, na=False)) | (chip_data['Product'].str.contains(r'^\\s*Intel', case=False, na=False)) &\n",
        "    (chip_data['Type'] == 'CPU')\n",
        "]"
      ],
      "metadata": {
        "id": "0nx1nj77ZuoW"
      },
      "execution_count": null,
      "outputs": []
    },
    {
      "cell_type": "code",
      "source": [
        "amd_intel_processors.head()"
      ],
      "metadata": {
        "id": "0Qbob3HGbe6i",
        "colab": {
          "base_uri": "https://localhost:8080/",
          "height": 275
        },
        "outputId": "60b86514-3f97-4298-8983-79a0efc95e86"
      },
      "execution_count": null,
      "outputs": [
        {
          "output_type": "execute_result",
          "data": {
            "text/plain": [
              "   Unnamed: 0                  Product Type Release Date  Process Size (nm)  \\\n",
              "0           0      AMD Athlon 64 3500+  CPU   20/02/2007               65.0   \n",
              "1           1         AMD Athlon 200GE  CPU   06/09/2018               14.0   \n",
              "2           2     Intel Core i5-1145G7  CPU   02/09/2020               10.0   \n",
              "3           3    Intel Xeon E5-2603 v2  CPU   01/09/2013               22.0   \n",
              "4           4  AMD Phenom II X4 980 BE  CPU   03/05/2011               45.0   \n",
              "\n",
              "   TDP (W)  Die Size (mm^2)  Transistors (million)  Freq (MHz)  Foundry  \\\n",
              "0     45.0             77.0                  122.0        2200  Unknown   \n",
              "1     35.0            192.0                 4800.0        3200  Unknown   \n",
              "2     28.0              NaN                    NaN        2600    Intel   \n",
              "3     80.0            160.0                 1400.0        1800    Intel   \n",
              "4    125.0            258.0                  758.0        3700  Unknown   \n",
              "\n",
              "  Vendor  FP16 GFLOPS  FP32 GFLOPS  FP64 GFLOPS  \n",
              "0    AMD          NaN          NaN          NaN  \n",
              "1    AMD          NaN          NaN          NaN  \n",
              "2  Intel          NaN          NaN          NaN  \n",
              "3  Intel          NaN          NaN          NaN  \n",
              "4    AMD          NaN          NaN          NaN  "
            ],
            "text/html": [
              "\n",
              "  <div id=\"df-a7b21ff7-4c6e-44a8-b3e4-6a3395d461e6\" class=\"colab-df-container\">\n",
              "    <div>\n",
              "<style scoped>\n",
              "    .dataframe tbody tr th:only-of-type {\n",
              "        vertical-align: middle;\n",
              "    }\n",
              "\n",
              "    .dataframe tbody tr th {\n",
              "        vertical-align: top;\n",
              "    }\n",
              "\n",
              "    .dataframe thead th {\n",
              "        text-align: right;\n",
              "    }\n",
              "</style>\n",
              "<table border=\"1\" class=\"dataframe\">\n",
              "  <thead>\n",
              "    <tr style=\"text-align: right;\">\n",
              "      <th></th>\n",
              "      <th>Unnamed: 0</th>\n",
              "      <th>Product</th>\n",
              "      <th>Type</th>\n",
              "      <th>Release Date</th>\n",
              "      <th>Process Size (nm)</th>\n",
              "      <th>TDP (W)</th>\n",
              "      <th>Die Size (mm^2)</th>\n",
              "      <th>Transistors (million)</th>\n",
              "      <th>Freq (MHz)</th>\n",
              "      <th>Foundry</th>\n",
              "      <th>Vendor</th>\n",
              "      <th>FP16 GFLOPS</th>\n",
              "      <th>FP32 GFLOPS</th>\n",
              "      <th>FP64 GFLOPS</th>\n",
              "    </tr>\n",
              "  </thead>\n",
              "  <tbody>\n",
              "    <tr>\n",
              "      <th>0</th>\n",
              "      <td>0</td>\n",
              "      <td>AMD Athlon 64 3500+</td>\n",
              "      <td>CPU</td>\n",
              "      <td>20/02/2007</td>\n",
              "      <td>65.0</td>\n",
              "      <td>45.0</td>\n",
              "      <td>77.0</td>\n",
              "      <td>122.0</td>\n",
              "      <td>2200</td>\n",
              "      <td>Unknown</td>\n",
              "      <td>AMD</td>\n",
              "      <td>NaN</td>\n",
              "      <td>NaN</td>\n",
              "      <td>NaN</td>\n",
              "    </tr>\n",
              "    <tr>\n",
              "      <th>1</th>\n",
              "      <td>1</td>\n",
              "      <td>AMD Athlon 200GE</td>\n",
              "      <td>CPU</td>\n",
              "      <td>06/09/2018</td>\n",
              "      <td>14.0</td>\n",
              "      <td>35.0</td>\n",
              "      <td>192.0</td>\n",
              "      <td>4800.0</td>\n",
              "      <td>3200</td>\n",
              "      <td>Unknown</td>\n",
              "      <td>AMD</td>\n",
              "      <td>NaN</td>\n",
              "      <td>NaN</td>\n",
              "      <td>NaN</td>\n",
              "    </tr>\n",
              "    <tr>\n",
              "      <th>2</th>\n",
              "      <td>2</td>\n",
              "      <td>Intel Core i5-1145G7</td>\n",
              "      <td>CPU</td>\n",
              "      <td>02/09/2020</td>\n",
              "      <td>10.0</td>\n",
              "      <td>28.0</td>\n",
              "      <td>NaN</td>\n",
              "      <td>NaN</td>\n",
              "      <td>2600</td>\n",
              "      <td>Intel</td>\n",
              "      <td>Intel</td>\n",
              "      <td>NaN</td>\n",
              "      <td>NaN</td>\n",
              "      <td>NaN</td>\n",
              "    </tr>\n",
              "    <tr>\n",
              "      <th>3</th>\n",
              "      <td>3</td>\n",
              "      <td>Intel Xeon E5-2603 v2</td>\n",
              "      <td>CPU</td>\n",
              "      <td>01/09/2013</td>\n",
              "      <td>22.0</td>\n",
              "      <td>80.0</td>\n",
              "      <td>160.0</td>\n",
              "      <td>1400.0</td>\n",
              "      <td>1800</td>\n",
              "      <td>Intel</td>\n",
              "      <td>Intel</td>\n",
              "      <td>NaN</td>\n",
              "      <td>NaN</td>\n",
              "      <td>NaN</td>\n",
              "    </tr>\n",
              "    <tr>\n",
              "      <th>4</th>\n",
              "      <td>4</td>\n",
              "      <td>AMD Phenom II X4 980 BE</td>\n",
              "      <td>CPU</td>\n",
              "      <td>03/05/2011</td>\n",
              "      <td>45.0</td>\n",
              "      <td>125.0</td>\n",
              "      <td>258.0</td>\n",
              "      <td>758.0</td>\n",
              "      <td>3700</td>\n",
              "      <td>Unknown</td>\n",
              "      <td>AMD</td>\n",
              "      <td>NaN</td>\n",
              "      <td>NaN</td>\n",
              "      <td>NaN</td>\n",
              "    </tr>\n",
              "  </tbody>\n",
              "</table>\n",
              "</div>\n",
              "    <div class=\"colab-df-buttons\">\n",
              "\n",
              "  <div class=\"colab-df-container\">\n",
              "    <button class=\"colab-df-convert\" onclick=\"convertToInteractive('df-a7b21ff7-4c6e-44a8-b3e4-6a3395d461e6')\"\n",
              "            title=\"Convert this dataframe to an interactive table.\"\n",
              "            style=\"display:none;\">\n",
              "\n",
              "  <svg xmlns=\"http://www.w3.org/2000/svg\" height=\"24px\" viewBox=\"0 -960 960 960\">\n",
              "    <path d=\"M120-120v-720h720v720H120Zm60-500h600v-160H180v160Zm220 220h160v-160H400v160Zm0 220h160v-160H400v160ZM180-400h160v-160H180v160Zm440 0h160v-160H620v160ZM180-180h160v-160H180v160Zm440 0h160v-160H620v160Z\"/>\n",
              "  </svg>\n",
              "    </button>\n",
              "\n",
              "  <style>\n",
              "    .colab-df-container {\n",
              "      display:flex;\n",
              "      gap: 12px;\n",
              "    }\n",
              "\n",
              "    .colab-df-convert {\n",
              "      background-color: #E8F0FE;\n",
              "      border: none;\n",
              "      border-radius: 50%;\n",
              "      cursor: pointer;\n",
              "      display: none;\n",
              "      fill: #1967D2;\n",
              "      height: 32px;\n",
              "      padding: 0 0 0 0;\n",
              "      width: 32px;\n",
              "    }\n",
              "\n",
              "    .colab-df-convert:hover {\n",
              "      background-color: #E2EBFA;\n",
              "      box-shadow: 0px 1px 2px rgba(60, 64, 67, 0.3), 0px 1px 3px 1px rgba(60, 64, 67, 0.15);\n",
              "      fill: #174EA6;\n",
              "    }\n",
              "\n",
              "    .colab-df-buttons div {\n",
              "      margin-bottom: 4px;\n",
              "    }\n",
              "\n",
              "    [theme=dark] .colab-df-convert {\n",
              "      background-color: #3B4455;\n",
              "      fill: #D2E3FC;\n",
              "    }\n",
              "\n",
              "    [theme=dark] .colab-df-convert:hover {\n",
              "      background-color: #434B5C;\n",
              "      box-shadow: 0px 1px 3px 1px rgba(0, 0, 0, 0.15);\n",
              "      filter: drop-shadow(0px 1px 2px rgba(0, 0, 0, 0.3));\n",
              "      fill: #FFFFFF;\n",
              "    }\n",
              "  </style>\n",
              "\n",
              "    <script>\n",
              "      const buttonEl =\n",
              "        document.querySelector('#df-a7b21ff7-4c6e-44a8-b3e4-6a3395d461e6 button.colab-df-convert');\n",
              "      buttonEl.style.display =\n",
              "        google.colab.kernel.accessAllowed ? 'block' : 'none';\n",
              "\n",
              "      async function convertToInteractive(key) {\n",
              "        const element = document.querySelector('#df-a7b21ff7-4c6e-44a8-b3e4-6a3395d461e6');\n",
              "        const dataTable =\n",
              "          await google.colab.kernel.invokeFunction('convertToInteractive',\n",
              "                                                    [key], {});\n",
              "        if (!dataTable) return;\n",
              "\n",
              "        const docLinkHtml = 'Like what you see? Visit the ' +\n",
              "          '<a target=\"_blank\" href=https://colab.research.google.com/notebooks/data_table.ipynb>data table notebook</a>'\n",
              "          + ' to learn more about interactive tables.';\n",
              "        element.innerHTML = '';\n",
              "        dataTable['output_type'] = 'display_data';\n",
              "        await google.colab.output.renderOutput(dataTable, element);\n",
              "        const docLink = document.createElement('div');\n",
              "        docLink.innerHTML = docLinkHtml;\n",
              "        element.appendChild(docLink);\n",
              "      }\n",
              "    </script>\n",
              "  </div>\n",
              "\n",
              "\n",
              "<div id=\"df-d1534e52-1eb8-49bb-80e1-39379666dbed\">\n",
              "  <button class=\"colab-df-quickchart\" onclick=\"quickchart('df-d1534e52-1eb8-49bb-80e1-39379666dbed')\"\n",
              "            title=\"Suggest charts\"\n",
              "            style=\"display:none;\">\n",
              "\n",
              "<svg xmlns=\"http://www.w3.org/2000/svg\" height=\"24px\"viewBox=\"0 0 24 24\"\n",
              "     width=\"24px\">\n",
              "    <g>\n",
              "        <path d=\"M19 3H5c-1.1 0-2 .9-2 2v14c0 1.1.9 2 2 2h14c1.1 0 2-.9 2-2V5c0-1.1-.9-2-2-2zM9 17H7v-7h2v7zm4 0h-2V7h2v10zm4 0h-2v-4h2v4z\"/>\n",
              "    </g>\n",
              "</svg>\n",
              "  </button>\n",
              "\n",
              "<style>\n",
              "  .colab-df-quickchart {\n",
              "      --bg-color: #E8F0FE;\n",
              "      --fill-color: #1967D2;\n",
              "      --hover-bg-color: #E2EBFA;\n",
              "      --hover-fill-color: #174EA6;\n",
              "      --disabled-fill-color: #AAA;\n",
              "      --disabled-bg-color: #DDD;\n",
              "  }\n",
              "\n",
              "  [theme=dark] .colab-df-quickchart {\n",
              "      --bg-color: #3B4455;\n",
              "      --fill-color: #D2E3FC;\n",
              "      --hover-bg-color: #434B5C;\n",
              "      --hover-fill-color: #FFFFFF;\n",
              "      --disabled-bg-color: #3B4455;\n",
              "      --disabled-fill-color: #666;\n",
              "  }\n",
              "\n",
              "  .colab-df-quickchart {\n",
              "    background-color: var(--bg-color);\n",
              "    border: none;\n",
              "    border-radius: 50%;\n",
              "    cursor: pointer;\n",
              "    display: none;\n",
              "    fill: var(--fill-color);\n",
              "    height: 32px;\n",
              "    padding: 0;\n",
              "    width: 32px;\n",
              "  }\n",
              "\n",
              "  .colab-df-quickchart:hover {\n",
              "    background-color: var(--hover-bg-color);\n",
              "    box-shadow: 0 1px 2px rgba(60, 64, 67, 0.3), 0 1px 3px 1px rgba(60, 64, 67, 0.15);\n",
              "    fill: var(--button-hover-fill-color);\n",
              "  }\n",
              "\n",
              "  .colab-df-quickchart-complete:disabled,\n",
              "  .colab-df-quickchart-complete:disabled:hover {\n",
              "    background-color: var(--disabled-bg-color);\n",
              "    fill: var(--disabled-fill-color);\n",
              "    box-shadow: none;\n",
              "  }\n",
              "\n",
              "  .colab-df-spinner {\n",
              "    border: 2px solid var(--fill-color);\n",
              "    border-color: transparent;\n",
              "    border-bottom-color: var(--fill-color);\n",
              "    animation:\n",
              "      spin 1s steps(1) infinite;\n",
              "  }\n",
              "\n",
              "  @keyframes spin {\n",
              "    0% {\n",
              "      border-color: transparent;\n",
              "      border-bottom-color: var(--fill-color);\n",
              "      border-left-color: var(--fill-color);\n",
              "    }\n",
              "    20% {\n",
              "      border-color: transparent;\n",
              "      border-left-color: var(--fill-color);\n",
              "      border-top-color: var(--fill-color);\n",
              "    }\n",
              "    30% {\n",
              "      border-color: transparent;\n",
              "      border-left-color: var(--fill-color);\n",
              "      border-top-color: var(--fill-color);\n",
              "      border-right-color: var(--fill-color);\n",
              "    }\n",
              "    40% {\n",
              "      border-color: transparent;\n",
              "      border-right-color: var(--fill-color);\n",
              "      border-top-color: var(--fill-color);\n",
              "    }\n",
              "    60% {\n",
              "      border-color: transparent;\n",
              "      border-right-color: var(--fill-color);\n",
              "    }\n",
              "    80% {\n",
              "      border-color: transparent;\n",
              "      border-right-color: var(--fill-color);\n",
              "      border-bottom-color: var(--fill-color);\n",
              "    }\n",
              "    90% {\n",
              "      border-color: transparent;\n",
              "      border-bottom-color: var(--fill-color);\n",
              "    }\n",
              "  }\n",
              "</style>\n",
              "\n",
              "  <script>\n",
              "    async function quickchart(key) {\n",
              "      const quickchartButtonEl =\n",
              "        document.querySelector('#' + key + ' button');\n",
              "      quickchartButtonEl.disabled = true;  // To prevent multiple clicks.\n",
              "      quickchartButtonEl.classList.add('colab-df-spinner');\n",
              "      try {\n",
              "        const charts = await google.colab.kernel.invokeFunction(\n",
              "            'suggestCharts', [key], {});\n",
              "      } catch (error) {\n",
              "        console.error('Error during call to suggestCharts:', error);\n",
              "      }\n",
              "      quickchartButtonEl.classList.remove('colab-df-spinner');\n",
              "      quickchartButtonEl.classList.add('colab-df-quickchart-complete');\n",
              "    }\n",
              "    (() => {\n",
              "      let quickchartButtonEl =\n",
              "        document.querySelector('#df-d1534e52-1eb8-49bb-80e1-39379666dbed button');\n",
              "      quickchartButtonEl.style.display =\n",
              "        google.colab.kernel.accessAllowed ? 'block' : 'none';\n",
              "    })();\n",
              "  </script>\n",
              "</div>\n",
              "    </div>\n",
              "  </div>\n"
            ],
            "application/vnd.google.colaboratory.intrinsic+json": {
              "type": "dataframe",
              "variable_name": "amd_intel_processors",
              "summary": "{\n  \"name\": \"amd_intel_processors\",\n  \"rows\": 2902,\n  \"fields\": [\n    {\n      \"column\": \"Unnamed: 0\",\n      \"properties\": {\n        \"dtype\": \"number\",\n        \"std\": 1239,\n        \"min\": 0,\n        \"max\": 4839,\n        \"num_unique_values\": 2902,\n        \"samples\": [\n          141,\n          819,\n          486\n        ],\n        \"semantic_type\": \"\",\n        \"description\": \"\"\n      }\n    },\n    {\n      \"column\": \"Product\",\n      \"properties\": {\n        \"dtype\": \"string\",\n        \"num_unique_values\": 2549,\n        \"samples\": [\n          \"Intel Pentium 2129Y\",\n          \"Intel Xeon E7-8860 v3\",\n          \"Intel Core i3-7120\"\n        ],\n        \"semantic_type\": \"\",\n        \"description\": \"\"\n      }\n    },\n    {\n      \"column\": \"Type\",\n      \"properties\": {\n        \"dtype\": \"category\",\n        \"num_unique_values\": 2,\n        \"samples\": [\n          \"GPU\",\n          \"CPU\"\n        ],\n        \"semantic_type\": \"\",\n        \"description\": \"\"\n      }\n    },\n    {\n      \"column\": \"Release Date\",\n      \"properties\": {\n        \"dtype\": \"object\",\n        \"num_unique_values\": 761,\n        \"samples\": [\n          \"08/01/2018\",\n          \"14/02/2005\"\n        ],\n        \"semantic_type\": \"\",\n        \"description\": \"\"\n      }\n    },\n    {\n      \"column\": \"Process Size (nm)\",\n      \"properties\": {\n        \"dtype\": \"number\",\n        \"std\": 38.624645559476505,\n        \"min\": 7.0,\n        \"max\": 180.0,\n        \"num_unique_values\": 15,\n        \"samples\": [\n          32.0,\n          12.0\n        ],\n        \"semantic_type\": \"\",\n        \"description\": \"\"\n      }\n    },\n    {\n      \"column\": \"TDP (W)\",\n      \"properties\": {\n        \"dtype\": \"number\",\n        \"std\": 65.91302532172553,\n        \"min\": 1.0,\n        \"max\": 580.0,\n        \"num_unique_values\": 139,\n        \"samples\": [\n          210.0,\n          220.0\n        ],\n        \"semantic_type\": \"\",\n        \"description\": \"\"\n      }\n    },\n    {\n      \"column\": \"Die Size (mm^2)\",\n      \"properties\": {\n        \"dtype\": \"number\",\n        \"std\": 93.85677504008365,\n        \"min\": 1.0,\n        \"max\": 750.0,\n        \"num_unique_values\": 121,\n        \"samples\": [\n          112.0,\n          217.0\n        ],\n        \"semantic_type\": \"\",\n        \"description\": \"\"\n      }\n    },\n    {\n      \"column\": \"Transistors (million)\",\n      \"properties\": {\n        \"dtype\": \"number\",\n        \"std\": 2893.3408925871818,\n        \"min\": 37.0,\n        \"max\": 50000.0,\n        \"num_unique_values\": 111,\n        \"samples\": [\n          5700.0,\n          233.0\n        ],\n        \"semantic_type\": \"\",\n        \"description\": \"\"\n      }\n    },\n    {\n      \"column\": \"Freq (MHz)\",\n      \"properties\": {\n        \"dtype\": \"number\",\n        \"std\": 982,\n        \"min\": 200,\n        \"max\": 4700,\n        \"num_unique_values\": 263,\n        \"samples\": [\n          1334,\n          2170\n        ],\n        \"semantic_type\": \"\",\n        \"description\": \"\"\n      }\n    },\n    {\n      \"column\": \"Foundry\",\n      \"properties\": {\n        \"dtype\": \"category\",\n        \"num_unique_values\": 5,\n        \"samples\": [\n          \"Intel\",\n          \"Renesas\"\n        ],\n        \"semantic_type\": \"\",\n        \"description\": \"\"\n      }\n    },\n    {\n      \"column\": \"Vendor\",\n      \"properties\": {\n        \"dtype\": \"category\",\n        \"num_unique_values\": 2,\n        \"samples\": [\n          \"Intel\",\n          \"AMD\"\n        ],\n        \"semantic_type\": \"\",\n        \"description\": \"\"\n      }\n    },\n    {\n      \"column\": \"FP16 GFLOPS\",\n      \"properties\": {\n        \"dtype\": \"number\",\n        \"std\": 13837.617244970988,\n        \"min\": 153.6,\n        \"max\": 184600.0,\n        \"num_unique_values\": 162,\n        \"samples\": [\n          12780.0,\n          2867.0\n        ],\n        \"semantic_type\": \"\",\n        \"description\": \"\"\n      }\n    },\n    {\n      \"column\": \"FP32 GFLOPS\",\n      \"properties\": {\n        \"dtype\": \"number\",\n        \"std\": 3140.422921878465,\n        \"min\": 44.16,\n        \"max\": 23070.0,\n        \"num_unique_values\": 326,\n        \"samples\": [\n          952.3,\n          537.6\n        ],\n        \"semantic_type\": \"\",\n        \"description\": \"\"\n      }\n    },\n    {\n      \"column\": \"FP64 GFLOPS\",\n      \"properties\": {\n        \"dtype\": \"number\",\n        \"std\": 804.4745844461579,\n        \"min\": 3.6,\n        \"max\": 11540.0,\n        \"num_unique_values\": 257,\n        \"samples\": [\n          6528.0,\n          51.2\n        ],\n        \"semantic_type\": \"\",\n        \"description\": \"\"\n      }\n    }\n  ]\n}"
            }
          },
          "metadata": {},
          "execution_count": 137
        }
      ]
    },
    {
      "cell_type": "code",
      "source": [
        "#Extract from chip_data for a simpler matchin\n",
        "#chip_data['processor_brand'] = chip_data['Product'].apply(lambda x: 'AMD' if 'AMD' in x else ('Intel' if 'Intel' in x else 'Other'))"
      ],
      "metadata": {
        "id": "gxWTvNz5E9GI"
      },
      "execution_count": null,
      "outputs": []
    },
    {
      "cell_type": "code",
      "source": [
        "#chip_data.head()"
      ],
      "metadata": {
        "colab": {
          "base_uri": "https://localhost:8080/",
          "height": 414
        },
        "id": "2hAao8vdFUpJ",
        "outputId": "12eab5f0-5ab5-45c6-b03a-ea2c15055d74"
      },
      "execution_count": null,
      "outputs": [
        {
          "output_type": "execute_result",
          "data": {
            "text/plain": [
              "   Unnamed: 0                  Product Type Release Date  Process Size (nm)  \\\n",
              "0           0      AMD Athlon 64 3500+  CPU   20/02/2007               65.0   \n",
              "1           1         AMD Athlon 200GE  CPU   06/09/2018               14.0   \n",
              "2           2     Intel Core i5-1145G7  CPU   02/09/2020               10.0   \n",
              "3           3    Intel Xeon E5-2603 v2  CPU   01/09/2013               22.0   \n",
              "4           4  AMD Phenom II X4 980 BE  CPU   03/05/2011               45.0   \n",
              "\n",
              "   TDP (W)  Die Size (mm^2)  Transistors (million)  Freq (MHz)  Foundry  \\\n",
              "0     45.0             77.0                  122.0        2200  Unknown   \n",
              "1     35.0            192.0                 4800.0        3200  Unknown   \n",
              "2     28.0              NaN                    NaN        2600    Intel   \n",
              "3     80.0            160.0                 1400.0        1800    Intel   \n",
              "4    125.0            258.0                  758.0        3700  Unknown   \n",
              "\n",
              "  Vendor  FP16 GFLOPS  FP32 GFLOPS  FP64 GFLOPS  \n",
              "0    AMD          NaN          NaN          NaN  \n",
              "1    AMD          NaN          NaN          NaN  \n",
              "2  Intel          NaN          NaN          NaN  \n",
              "3  Intel          NaN          NaN          NaN  \n",
              "4    AMD          NaN          NaN          NaN  "
            ],
            "text/html": [
              "\n",
              "  <div id=\"df-1c9a6669-1a54-4bcb-a9bd-eed297e0964f\" class=\"colab-df-container\">\n",
              "    <div>\n",
              "<style scoped>\n",
              "    .dataframe tbody tr th:only-of-type {\n",
              "        vertical-align: middle;\n",
              "    }\n",
              "\n",
              "    .dataframe tbody tr th {\n",
              "        vertical-align: top;\n",
              "    }\n",
              "\n",
              "    .dataframe thead th {\n",
              "        text-align: right;\n",
              "    }\n",
              "</style>\n",
              "<table border=\"1\" class=\"dataframe\">\n",
              "  <thead>\n",
              "    <tr style=\"text-align: right;\">\n",
              "      <th></th>\n",
              "      <th>Unnamed: 0</th>\n",
              "      <th>Product</th>\n",
              "      <th>Type</th>\n",
              "      <th>Release Date</th>\n",
              "      <th>Process Size (nm)</th>\n",
              "      <th>TDP (W)</th>\n",
              "      <th>Die Size (mm^2)</th>\n",
              "      <th>Transistors (million)</th>\n",
              "      <th>Freq (MHz)</th>\n",
              "      <th>Foundry</th>\n",
              "      <th>Vendor</th>\n",
              "      <th>FP16 GFLOPS</th>\n",
              "      <th>FP32 GFLOPS</th>\n",
              "      <th>FP64 GFLOPS</th>\n",
              "    </tr>\n",
              "  </thead>\n",
              "  <tbody>\n",
              "    <tr>\n",
              "      <th>0</th>\n",
              "      <td>0</td>\n",
              "      <td>AMD Athlon 64 3500+</td>\n",
              "      <td>CPU</td>\n",
              "      <td>20/02/2007</td>\n",
              "      <td>65.0</td>\n",
              "      <td>45.0</td>\n",
              "      <td>77.0</td>\n",
              "      <td>122.0</td>\n",
              "      <td>2200</td>\n",
              "      <td>Unknown</td>\n",
              "      <td>AMD</td>\n",
              "      <td>NaN</td>\n",
              "      <td>NaN</td>\n",
              "      <td>NaN</td>\n",
              "    </tr>\n",
              "    <tr>\n",
              "      <th>1</th>\n",
              "      <td>1</td>\n",
              "      <td>AMD Athlon 200GE</td>\n",
              "      <td>CPU</td>\n",
              "      <td>06/09/2018</td>\n",
              "      <td>14.0</td>\n",
              "      <td>35.0</td>\n",
              "      <td>192.0</td>\n",
              "      <td>4800.0</td>\n",
              "      <td>3200</td>\n",
              "      <td>Unknown</td>\n",
              "      <td>AMD</td>\n",
              "      <td>NaN</td>\n",
              "      <td>NaN</td>\n",
              "      <td>NaN</td>\n",
              "    </tr>\n",
              "    <tr>\n",
              "      <th>2</th>\n",
              "      <td>2</td>\n",
              "      <td>Intel Core i5-1145G7</td>\n",
              "      <td>CPU</td>\n",
              "      <td>02/09/2020</td>\n",
              "      <td>10.0</td>\n",
              "      <td>28.0</td>\n",
              "      <td>NaN</td>\n",
              "      <td>NaN</td>\n",
              "      <td>2600</td>\n",
              "      <td>Intel</td>\n",
              "      <td>Intel</td>\n",
              "      <td>NaN</td>\n",
              "      <td>NaN</td>\n",
              "      <td>NaN</td>\n",
              "    </tr>\n",
              "    <tr>\n",
              "      <th>3</th>\n",
              "      <td>3</td>\n",
              "      <td>Intel Xeon E5-2603 v2</td>\n",
              "      <td>CPU</td>\n",
              "      <td>01/09/2013</td>\n",
              "      <td>22.0</td>\n",
              "      <td>80.0</td>\n",
              "      <td>160.0</td>\n",
              "      <td>1400.0</td>\n",
              "      <td>1800</td>\n",
              "      <td>Intel</td>\n",
              "      <td>Intel</td>\n",
              "      <td>NaN</td>\n",
              "      <td>NaN</td>\n",
              "      <td>NaN</td>\n",
              "    </tr>\n",
              "    <tr>\n",
              "      <th>4</th>\n",
              "      <td>4</td>\n",
              "      <td>AMD Phenom II X4 980 BE</td>\n",
              "      <td>CPU</td>\n",
              "      <td>03/05/2011</td>\n",
              "      <td>45.0</td>\n",
              "      <td>125.0</td>\n",
              "      <td>258.0</td>\n",
              "      <td>758.0</td>\n",
              "      <td>3700</td>\n",
              "      <td>Unknown</td>\n",
              "      <td>AMD</td>\n",
              "      <td>NaN</td>\n",
              "      <td>NaN</td>\n",
              "      <td>NaN</td>\n",
              "    </tr>\n",
              "  </tbody>\n",
              "</table>\n",
              "</div>\n",
              "    <div class=\"colab-df-buttons\">\n",
              "\n",
              "  <div class=\"colab-df-container\">\n",
              "    <button class=\"colab-df-convert\" onclick=\"convertToInteractive('df-1c9a6669-1a54-4bcb-a9bd-eed297e0964f')\"\n",
              "            title=\"Convert this dataframe to an interactive table.\"\n",
              "            style=\"display:none;\">\n",
              "\n",
              "  <svg xmlns=\"http://www.w3.org/2000/svg\" height=\"24px\" viewBox=\"0 -960 960 960\">\n",
              "    <path d=\"M120-120v-720h720v720H120Zm60-500h600v-160H180v160Zm220 220h160v-160H400v160Zm0 220h160v-160H400v160ZM180-400h160v-160H180v160Zm440 0h160v-160H620v160ZM180-180h160v-160H180v160Zm440 0h160v-160H620v160Z\"/>\n",
              "  </svg>\n",
              "    </button>\n",
              "\n",
              "  <style>\n",
              "    .colab-df-container {\n",
              "      display:flex;\n",
              "      gap: 12px;\n",
              "    }\n",
              "\n",
              "    .colab-df-convert {\n",
              "      background-color: #E8F0FE;\n",
              "      border: none;\n",
              "      border-radius: 50%;\n",
              "      cursor: pointer;\n",
              "      display: none;\n",
              "      fill: #1967D2;\n",
              "      height: 32px;\n",
              "      padding: 0 0 0 0;\n",
              "      width: 32px;\n",
              "    }\n",
              "\n",
              "    .colab-df-convert:hover {\n",
              "      background-color: #E2EBFA;\n",
              "      box-shadow: 0px 1px 2px rgba(60, 64, 67, 0.3), 0px 1px 3px 1px rgba(60, 64, 67, 0.15);\n",
              "      fill: #174EA6;\n",
              "    }\n",
              "\n",
              "    .colab-df-buttons div {\n",
              "      margin-bottom: 4px;\n",
              "    }\n",
              "\n",
              "    [theme=dark] .colab-df-convert {\n",
              "      background-color: #3B4455;\n",
              "      fill: #D2E3FC;\n",
              "    }\n",
              "\n",
              "    [theme=dark] .colab-df-convert:hover {\n",
              "      background-color: #434B5C;\n",
              "      box-shadow: 0px 1px 3px 1px rgba(0, 0, 0, 0.15);\n",
              "      filter: drop-shadow(0px 1px 2px rgba(0, 0, 0, 0.3));\n",
              "      fill: #FFFFFF;\n",
              "    }\n",
              "  </style>\n",
              "\n",
              "    <script>\n",
              "      const buttonEl =\n",
              "        document.querySelector('#df-1c9a6669-1a54-4bcb-a9bd-eed297e0964f button.colab-df-convert');\n",
              "      buttonEl.style.display =\n",
              "        google.colab.kernel.accessAllowed ? 'block' : 'none';\n",
              "\n",
              "      async function convertToInteractive(key) {\n",
              "        const element = document.querySelector('#df-1c9a6669-1a54-4bcb-a9bd-eed297e0964f');\n",
              "        const dataTable =\n",
              "          await google.colab.kernel.invokeFunction('convertToInteractive',\n",
              "                                                    [key], {});\n",
              "        if (!dataTable) return;\n",
              "\n",
              "        const docLinkHtml = 'Like what you see? Visit the ' +\n",
              "          '<a target=\"_blank\" href=https://colab.research.google.com/notebooks/data_table.ipynb>data table notebook</a>'\n",
              "          + ' to learn more about interactive tables.';\n",
              "        element.innerHTML = '';\n",
              "        dataTable['output_type'] = 'display_data';\n",
              "        await google.colab.output.renderOutput(dataTable, element);\n",
              "        const docLink = document.createElement('div');\n",
              "        docLink.innerHTML = docLinkHtml;\n",
              "        element.appendChild(docLink);\n",
              "      }\n",
              "    </script>\n",
              "  </div>\n",
              "\n",
              "\n",
              "<div id=\"df-a477c29b-6411-4d71-91a7-551c5c9d8649\">\n",
              "  <button class=\"colab-df-quickchart\" onclick=\"quickchart('df-a477c29b-6411-4d71-91a7-551c5c9d8649')\"\n",
              "            title=\"Suggest charts\"\n",
              "            style=\"display:none;\">\n",
              "\n",
              "<svg xmlns=\"http://www.w3.org/2000/svg\" height=\"24px\"viewBox=\"0 0 24 24\"\n",
              "     width=\"24px\">\n",
              "    <g>\n",
              "        <path d=\"M19 3H5c-1.1 0-2 .9-2 2v14c0 1.1.9 2 2 2h14c1.1 0 2-.9 2-2V5c0-1.1-.9-2-2-2zM9 17H7v-7h2v7zm4 0h-2V7h2v10zm4 0h-2v-4h2v4z\"/>\n",
              "    </g>\n",
              "</svg>\n",
              "  </button>\n",
              "\n",
              "<style>\n",
              "  .colab-df-quickchart {\n",
              "      --bg-color: #E8F0FE;\n",
              "      --fill-color: #1967D2;\n",
              "      --hover-bg-color: #E2EBFA;\n",
              "      --hover-fill-color: #174EA6;\n",
              "      --disabled-fill-color: #AAA;\n",
              "      --disabled-bg-color: #DDD;\n",
              "  }\n",
              "\n",
              "  [theme=dark] .colab-df-quickchart {\n",
              "      --bg-color: #3B4455;\n",
              "      --fill-color: #D2E3FC;\n",
              "      --hover-bg-color: #434B5C;\n",
              "      --hover-fill-color: #FFFFFF;\n",
              "      --disabled-bg-color: #3B4455;\n",
              "      --disabled-fill-color: #666;\n",
              "  }\n",
              "\n",
              "  .colab-df-quickchart {\n",
              "    background-color: var(--bg-color);\n",
              "    border: none;\n",
              "    border-radius: 50%;\n",
              "    cursor: pointer;\n",
              "    display: none;\n",
              "    fill: var(--fill-color);\n",
              "    height: 32px;\n",
              "    padding: 0;\n",
              "    width: 32px;\n",
              "  }\n",
              "\n",
              "  .colab-df-quickchart:hover {\n",
              "    background-color: var(--hover-bg-color);\n",
              "    box-shadow: 0 1px 2px rgba(60, 64, 67, 0.3), 0 1px 3px 1px rgba(60, 64, 67, 0.15);\n",
              "    fill: var(--button-hover-fill-color);\n",
              "  }\n",
              "\n",
              "  .colab-df-quickchart-complete:disabled,\n",
              "  .colab-df-quickchart-complete:disabled:hover {\n",
              "    background-color: var(--disabled-bg-color);\n",
              "    fill: var(--disabled-fill-color);\n",
              "    box-shadow: none;\n",
              "  }\n",
              "\n",
              "  .colab-df-spinner {\n",
              "    border: 2px solid var(--fill-color);\n",
              "    border-color: transparent;\n",
              "    border-bottom-color: var(--fill-color);\n",
              "    animation:\n",
              "      spin 1s steps(1) infinite;\n",
              "  }\n",
              "\n",
              "  @keyframes spin {\n",
              "    0% {\n",
              "      border-color: transparent;\n",
              "      border-bottom-color: var(--fill-color);\n",
              "      border-left-color: var(--fill-color);\n",
              "    }\n",
              "    20% {\n",
              "      border-color: transparent;\n",
              "      border-left-color: var(--fill-color);\n",
              "      border-top-color: var(--fill-color);\n",
              "    }\n",
              "    30% {\n",
              "      border-color: transparent;\n",
              "      border-left-color: var(--fill-color);\n",
              "      border-top-color: var(--fill-color);\n",
              "      border-right-color: var(--fill-color);\n",
              "    }\n",
              "    40% {\n",
              "      border-color: transparent;\n",
              "      border-right-color: var(--fill-color);\n",
              "      border-top-color: var(--fill-color);\n",
              "    }\n",
              "    60% {\n",
              "      border-color: transparent;\n",
              "      border-right-color: var(--fill-color);\n",
              "    }\n",
              "    80% {\n",
              "      border-color: transparent;\n",
              "      border-right-color: var(--fill-color);\n",
              "      border-bottom-color: var(--fill-color);\n",
              "    }\n",
              "    90% {\n",
              "      border-color: transparent;\n",
              "      border-bottom-color: var(--fill-color);\n",
              "    }\n",
              "  }\n",
              "</style>\n",
              "\n",
              "  <script>\n",
              "    async function quickchart(key) {\n",
              "      const quickchartButtonEl =\n",
              "        document.querySelector('#' + key + ' button');\n",
              "      quickchartButtonEl.disabled = true;  // To prevent multiple clicks.\n",
              "      quickchartButtonEl.classList.add('colab-df-spinner');\n",
              "      try {\n",
              "        const charts = await google.colab.kernel.invokeFunction(\n",
              "            'suggestCharts', [key], {});\n",
              "      } catch (error) {\n",
              "        console.error('Error during call to suggestCharts:', error);\n",
              "      }\n",
              "      quickchartButtonEl.classList.remove('colab-df-spinner');\n",
              "      quickchartButtonEl.classList.add('colab-df-quickchart-complete');\n",
              "    }\n",
              "    (() => {\n",
              "      let quickchartButtonEl =\n",
              "        document.querySelector('#df-a477c29b-6411-4d71-91a7-551c5c9d8649 button');\n",
              "      quickchartButtonEl.style.display =\n",
              "        google.colab.kernel.accessAllowed ? 'block' : 'none';\n",
              "    })();\n",
              "  </script>\n",
              "</div>\n",
              "    </div>\n",
              "  </div>\n"
            ],
            "application/vnd.google.colaboratory.intrinsic+json": {
              "type": "dataframe",
              "variable_name": "chip_data",
              "summary": "{\n  \"name\": \"chip_data\",\n  \"rows\": 4854,\n  \"fields\": [\n    {\n      \"column\": \"Unnamed: 0\",\n      \"properties\": {\n        \"dtype\": \"number\",\n        \"std\": 1401,\n        \"min\": 0,\n        \"max\": 4853,\n        \"num_unique_values\": 4854,\n        \"samples\": [\n          4239,\n          1820,\n          4531\n        ],\n        \"semantic_type\": \"\",\n        \"description\": \"\"\n      }\n    },\n    {\n      \"column\": \"Product\",\n      \"properties\": {\n        \"dtype\": \"string\",\n        \"num_unique_values\": 4278,\n        \"samples\": [\n          \"Intel Core i3-2100T\",\n          \"AMD Athlon II X3 455\",\n          \"Matrox M9125 PCIe x16\"\n        ],\n        \"semantic_type\": \"\",\n        \"description\": \"\"\n      }\n    },\n    {\n      \"column\": \"Type\",\n      \"properties\": {\n        \"dtype\": \"category\",\n        \"num_unique_values\": 2,\n        \"samples\": [\n          \"GPU\",\n          \"CPU\"\n        ],\n        \"semantic_type\": \"\",\n        \"description\": \"\"\n      }\n    },\n    {\n      \"column\": \"Release Date\",\n      \"properties\": {\n        \"dtype\": \"object\",\n        \"num_unique_values\": 1357,\n        \"samples\": [\n          \"11/05/2010\",\n          \"13/01/2006\"\n        ],\n        \"semantic_type\": \"\",\n        \"description\": \"\"\n      }\n    },\n    {\n      \"column\": \"Process Size (nm)\",\n      \"properties\": {\n        \"dtype\": \"number\",\n        \"std\": 44.99867601436815,\n        \"min\": 0.0,\n        \"max\": 250.0,\n        \"num_unique_values\": 22,\n        \"samples\": [\n          65.0,\n          150.0\n        ],\n        \"semantic_type\": \"\",\n        \"description\": \"\"\n      }\n    },\n    {\n      \"column\": \"TDP (W)\",\n      \"properties\": {\n        \"dtype\": \"number\",\n        \"std\": 76.80780783491127,\n        \"min\": 1.0,\n        \"max\": 900.0,\n        \"num_unique_values\": 200,\n        \"samples\": [\n          26.0,\n          60.0\n        ],\n        \"semantic_type\": \"\",\n        \"description\": \"\"\n      }\n    },\n    {\n      \"column\": \"Die Size (mm^2)\",\n      \"properties\": {\n        \"dtype\": \"number\",\n        \"std\": 126.18938262578801,\n        \"min\": 1.0,\n        \"max\": 826.0,\n        \"num_unique_values\": 191,\n        \"samples\": [\n          392.0,\n          124.0\n        ],\n        \"semantic_type\": \"\",\n        \"description\": \"\"\n      }\n    },\n    {\n      \"column\": \"Transistors (million)\",\n      \"properties\": {\n        \"dtype\": \"number\",\n        \"std\": 4044.8910976720354,\n        \"min\": 8.0,\n        \"max\": 54200.0,\n        \"num_unique_values\": 196,\n        \"samples\": [\n          716.0,\n          754.0\n        ],\n        \"semantic_type\": \"\",\n        \"description\": \"\"\n      }\n    },\n    {\n      \"column\": \"Freq (MHz)\",\n      \"properties\": {\n        \"dtype\": \"number\",\n        \"std\": 1066,\n        \"min\": 100,\n        \"max\": 4700,\n        \"num_unique_values\": 527,\n        \"samples\": [\n          1440,\n          701\n        ],\n        \"semantic_type\": \"\",\n        \"description\": \"\"\n      }\n    },\n    {\n      \"column\": \"Foundry\",\n      \"properties\": {\n        \"dtype\": \"category\",\n        \"num_unique_values\": 10,\n        \"samples\": [\n          \"NEC\",\n          \"Intel\"\n        ],\n        \"semantic_type\": \"\",\n        \"description\": \"\"\n      }\n    },\n    {\n      \"column\": \"Vendor\",\n      \"properties\": {\n        \"dtype\": \"category\",\n        \"num_unique_values\": 5,\n        \"samples\": [\n          \"Intel\",\n          \"ATI\"\n        ],\n        \"semantic_type\": \"\",\n        \"description\": \"\"\n      }\n    },\n    {\n      \"column\": \"FP16 GFLOPS\",\n      \"properties\": {\n        \"dtype\": \"number\",\n        \"std\": 13799.551131477692,\n        \"min\": 10.02,\n        \"max\": 184600.0,\n        \"num_unique_values\": 343,\n        \"samples\": [\n          17.92,\n          1690.0\n        ],\n        \"semantic_type\": \"\",\n        \"description\": \"\"\n      }\n    },\n    {\n      \"column\": \"FP32 GFLOPS\",\n      \"properties\": {\n        \"dtype\": \"number\",\n        \"std\": 3898.4314868726437,\n        \"min\": 12.8,\n        \"max\": 40000.0,\n        \"num_unique_values\": 821,\n        \"samples\": [\n          341.4,\n          3789.0\n        ],\n        \"semantic_type\": \"\",\n        \"description\": \"\"\n      }\n    },\n    {\n      \"column\": \"FP64 GFLOPS\",\n      \"properties\": {\n        \"dtype\": \"number\",\n        \"std\": 1145.9318556383469,\n        \"min\": 3.6,\n        \"max\": 11540.0,\n        \"num_unique_values\": 672,\n        \"samples\": [\n          14.4,\n          128.0\n        ],\n        \"semantic_type\": \"\",\n        \"description\": \"\"\n      }\n    }\n  ]\n}"
            }
          },
          "metadata": {},
          "execution_count": 120
        }
      ]
    },
    {
      "cell_type": "code",
      "source": [
        "#display statistics\n",
        "print(laptop_data.describe())"
      ],
      "metadata": {
        "id": "KeT4fVeNZGH6",
        "colab": {
          "base_uri": "https://localhost:8080/"
        },
        "outputId": "050f2cad-1151-43a6-b9cc-dbe27dbdb043"
      },
      "execution_count": null,
      "outputs": [
        {
          "output_type": "stream",
          "name": "stdout",
          "text": [
            "       graphic_card_gb    warranty   latest_price      old_price    discount  \\\n",
            "count       896.000000  896.000000     896.000000     896.000000  896.000000   \n",
            "mean          1.198661    0.691964   76309.860491   88134.154018   18.527902   \n",
            "std           2.057454    0.606282   46613.354368   55719.645554   10.508486   \n",
            "min           0.000000    0.000000   13990.000000       0.000000    0.000000   \n",
            "25%           0.000000    0.000000   45490.000000   54940.500000   11.000000   \n",
            "50%           0.000000    1.000000   63494.000000   78052.500000   19.000000   \n",
            "75%           2.000000    1.000000   89090.000000  111019.500000   26.000000   \n",
            "max           8.000000    3.000000  441990.000000  377798.000000   57.000000   \n",
            "\n",
            "       star_rating       ratings      reviews  \n",
            "count   896.000000    896.000000   896.000000  \n",
            "mean      2.980469    367.391741    46.152902  \n",
            "std       1.965254   1106.309355   136.079586  \n",
            "min       0.000000      0.000000     0.000000  \n",
            "25%       0.000000      0.000000     0.000000  \n",
            "50%       4.100000     19.000000     3.000000  \n",
            "75%       4.400000    179.500000    23.250000  \n",
            "max       5.000000  15279.000000  1947.000000  \n"
          ]
        }
      ]
    },
    {
      "cell_type": "code",
      "source": [
        "#display statistics\n",
        "print(chip_data.describe())"
      ],
      "metadata": {
        "id": "RKR_i9KRZLug",
        "colab": {
          "base_uri": "https://localhost:8080/"
        },
        "outputId": "421f9557-eed2-4afc-ae1f-2cbaa4709a57"
      },
      "execution_count": null,
      "outputs": [
        {
          "output_type": "stream",
          "name": "stdout",
          "text": [
            "        Unnamed: 0  Process Size (nm)      TDP (W)  Die Size (mm^2)  \\\n",
            "count  4854.000000        4845.000000  4228.000000      4139.000000   \n",
            "mean   2426.500000          55.109598    81.359981       188.440445   \n",
            "std    1401.373433          44.998676    76.807808       126.189383   \n",
            "min       0.000000           0.000000     1.000000         1.000000   \n",
            "25%    1213.250000          22.000000    33.000000       104.000000   \n",
            "50%    2426.500000          40.000000    65.000000       148.000000   \n",
            "75%    3639.750000          90.000000   100.000000       239.000000   \n",
            "max    4853.000000         250.000000   900.000000       826.000000   \n",
            "\n",
            "       Transistors (million)   Freq (MHz)    FP16 GFLOPS   FP32 GFLOPS  \\\n",
            "count            4143.000000  4854.000000     536.000000   1948.000000   \n",
            "mean             1929.922279  1484.406057    8397.459851   2134.756653   \n",
            "std              4044.891098  1066.701523   13799.551131   3898.431487   \n",
            "min                 8.000000   100.000000      10.020000     12.800000   \n",
            "25%               154.000000   590.000000     768.800000    257.300000   \n",
            "50%               624.000000  1073.500000    2965.500000    696.000000   \n",
            "75%              1550.000000  2400.000000   10600.000000   2116.750000   \n",
            "max             54200.000000  4700.000000  184600.000000  40000.000000   \n",
            "\n",
            "        FP64 GFLOPS  \n",
            "count   1306.000000  \n",
            "mean     363.670511  \n",
            "std     1145.931856  \n",
            "min        3.600000  \n",
            "25%       38.295000  \n",
            "50%       89.280000  \n",
            "75%      220.000000  \n",
            "max    11540.000000  \n"
          ]
        }
      ]
    },
    {
      "cell_type": "code",
      "source": [
        "# laptop dataset - counting number missing values of each attribute\n",
        "print(laptop_data.isnull().sum())"
      ],
      "metadata": {
        "id": "p0QF9wnJZVz-",
        "colab": {
          "base_uri": "https://localhost:8080/"
        },
        "outputId": "2c02fc5e-4f04-4788-9173-30f58e8680cc"
      },
      "execution_count": null,
      "outputs": [
        {
          "output_type": "stream",
          "name": "stdout",
          "text": [
            "brand              0\n",
            "model              0\n",
            "processor_brand    0\n",
            "processor_gnrtn    0\n",
            "ram_gb             0\n",
            "ram_type           0\n",
            "ssd                0\n",
            "hdd                0\n",
            "os                 0\n",
            "os_bit             0\n",
            "graphic_card_gb    0\n",
            "weight             0\n",
            "display_size       0\n",
            "warranty           0\n",
            "Touchscreen        0\n",
            "msoffice           0\n",
            "latest_price       0\n",
            "old_price          0\n",
            "discount           0\n",
            "star_rating        0\n",
            "ratings            0\n",
            "reviews            0\n",
            "dtype: int64\n"
          ]
        }
      ]
    },
    {
      "cell_type": "code",
      "source": [
        "# amd_intel_processors dataset - counting number missing values of each attribute to see if the Freq (MHz) need more works\n",
        "print(amd_intel_processors.isnull().sum())"
      ],
      "metadata": {
        "id": "pQrge4P2ZYSd",
        "colab": {
          "base_uri": "https://localhost:8080/"
        },
        "outputId": "80b454fd-4264-4c18-b702-abae7eddb1fa"
      },
      "execution_count": null,
      "outputs": [
        {
          "output_type": "stream",
          "name": "stdout",
          "text": [
            "Unnamed: 0                  0\n",
            "Product                     0\n",
            "Type                        0\n",
            "Release Date                0\n",
            "Process Size (nm)           0\n",
            "TDP (W)                   120\n",
            "Die Size (mm^2)           537\n",
            "Transistors (million)     529\n",
            "Freq (MHz)                  0\n",
            "Foundry                     0\n",
            "Vendor                      0\n",
            "FP16 GFLOPS              2643\n",
            "FP32 GFLOPS              2193\n",
            "FP64 GFLOPS              2400\n",
            "dtype: int64\n"
          ]
        }
      ]
    },
    {
      "cell_type": "code",
      "source": [
        "#Plotting histograms for all numeric columns in the laptop dataset to visualise the prices\n",
        "laptop_data.hist(bins=15, figsize=(15, 10))\n",
        "plt.show()"
      ],
      "metadata": {
        "id": "kxYBBpFtZa5Y",
        "colab": {
          "base_uri": "https://localhost:8080/",
          "height": 853
        },
        "outputId": "8c4b7bc5-32dc-41e4-a4f2-805cede33bc5"
      },
      "execution_count": null,
      "outputs": [
        {
          "output_type": "display_data",
          "data": {
            "text/plain": [
              "<Figure size 1500x1000 with 9 Axes>"
            ],
            "image/png": "[encoded data removed]"
          },
          "metadata": {}
        }
      ]
    },
    {
      "cell_type": "code",
      "source": [
        "#plotting histograms for all numeric columns in chip dataset to visualise the frequencies\n",
        "amd_intel_processors.hist(bins=15, figsize=(15, 10))\n",
        "plt.show()"
      ],
      "metadata": {
        "id": "y7kfo4S5bQCX",
        "colab": {
          "base_uri": "https://localhost:8080/",
          "height": 853
        },
        "outputId": "31c51466-800f-4102-d7e4-e4ebbfd24bc2"
      },
      "execution_count": null,
      "outputs": [
        {
          "output_type": "display_data",
          "data": {
            "text/plain": [
              "<Figure size 1500x1000 with 9 Axes>"
            ],
            "image/png": "[encoded data removed]"
          },
          "metadata": {}
        }
      ]
    },
    {
      "cell_type": "code",
      "source": [
        "#Preparation for linking - extracting both AMD and Intel from processor_brand and Product column using regex\n",
        "laptop_data['key'] = laptop_data['processor_brand'].str.extract('(AMD|Intel)')"
      ],
      "metadata": {
        "id": "U683-QK_RfDW",
        "colab": {
          "base_uri": "https://localhost:8080/"
        },
        "outputId": "c2c7642d-671f-4864-c2b7-be2aea5a2852"
      },
      "execution_count": null,
      "outputs": [
        {
          "output_type": "stream",
          "name": "stderr",
          "text": [
            "<ipython-input-145-68b5b078069a>:3: SettingWithCopyWarning: \n",
            "A value is trying to be set on a copy of a slice from a DataFrame.\n",
            "Try using .loc[row_indexer,col_indexer] = value instead\n",
            "\n",
            "See the caveats in the documentation: https://pandas.pydata.org/pandas-docs/stable/user_guide/indexing.html#returning-a-view-versus-a-copy\n",
            "  amd_intel_processors.loc[:,'key'] = amd_intel_processors['Product'].str.extract('(AMD|Intel)')\n"
          ]
        }
      ]
    },
    {
      "cell_type": "code",
      "source": [
        "#Preparation for linking - extracting both AMD and Intel from the Product column using regex\n",
        "amd_intel_processors.loc[:,'key'] = amd_intel_processors['Product'].str.extract('(AMD|Intel)')"
      ],
      "metadata": {
        "id": "5JQ6pkBC1nJ1"
      },
      "execution_count": null,
      "outputs": []
    },
    {
      "cell_type": "markdown",
      "source": [
        "Linking the datasets"
      ],
      "metadata": {
        "id": "txQ-nW2Dak9y"
      }
    },
    {
      "cell_type": "code",
      "source": [
        "# Merge based on key, which are processor_brand and Product\n",
        "merged_data = pd.merge(laptop_data, amd_intel_processors, on='key', how='left')"
      ],
      "metadata": {
        "id": "iuzOf8n7a1KV"
      },
      "execution_count": null,
      "outputs": []
    },
    {
      "cell_type": "code",
      "source": [
        "merged_data.head()"
      ],
      "metadata": {
        "id": "TzbnO2yCGnoB",
        "colab": {
          "base_uri": "https://localhost:8080/",
          "height": 377
        },
        "outputId": "f2d6adc9-6228-4c3f-ea04-ed1446caaf5f"
      },
      "execution_count": null,
      "outputs": [
        {
          "output_type": "execute_result",
          "data": {
            "text/plain": [
              "    brand    model processor_brand processor_gnrtn   ram_gb ram_type   ssd  \\\n",
              "0  Lenovo  A6-9225             AMD            10th  4 GB GB     DDR4  0 GB   \n",
              "1  Lenovo  A6-9225             AMD            10th  4 GB GB     DDR4  0 GB   \n",
              "2  Lenovo  A6-9225             AMD            10th  4 GB GB     DDR4  0 GB   \n",
              "3  Lenovo  A6-9225             AMD            10th  4 GB GB     DDR4  0 GB   \n",
              "4  Lenovo  A6-9225             AMD            10th  4 GB GB     DDR4  0 GB   \n",
              "\n",
              "       hdd       os  os_bit  ...  Process Size (nm) TDP (W) Die Size (mm^2)  \\\n",
              "0  1024 GB  Windows  64-bit  ...               65.0    45.0            77.0   \n",
              "1  1024 GB  Windows  64-bit  ...               14.0    35.0           192.0   \n",
              "2  1024 GB  Windows  64-bit  ...               45.0   125.0           258.0   \n",
              "3  1024 GB  Windows  64-bit  ...               65.0   125.0           285.0   \n",
              "4  1024 GB  Windows  64-bit  ...               90.0    89.0           156.0   \n",
              "\n",
              "   Transistors (million) Freq (MHz)  Foundry  Vendor  FP16 GFLOPS  \\\n",
              "0                  122.0     2200.0  Unknown     AMD          NaN   \n",
              "1                 4800.0     3200.0  Unknown     AMD          NaN   \n",
              "2                  758.0     3700.0  Unknown     AMD          NaN   \n",
              "3                  450.0     2400.0  Unknown     AMD          NaN   \n",
              "4                  154.0     2200.0  Unknown     AMD          NaN   \n",
              "\n",
              "   FP32 GFLOPS  FP64 GFLOPS  \n",
              "0          NaN          NaN  \n",
              "1          NaN          NaN  \n",
              "2          NaN          NaN  \n",
              "3          NaN          NaN  \n",
              "4          NaN          NaN  \n",
              "\n",
              "[5 rows x 37 columns]"
            ],
            "text/html": [
              "\n",
              "  <div id=\"df-32fe979b-6de1-4b04-9d17-1c22d473722a\" class=\"colab-df-container\">\n",
              "    <div>\n",
              "<style scoped>\n",
              "    .dataframe tbody tr th:only-of-type {\n",
              "        vertical-align: middle;\n",
              "    }\n",
              "\n",
              "    .dataframe tbody tr th {\n",
              "        vertical-align: top;\n",
              "    }\n",
              "\n",
              "    .dataframe thead th {\n",
              "        text-align: right;\n",
              "    }\n",
              "</style>\n",
              "<table border=\"1\" class=\"dataframe\">\n",
              "  <thead>\n",
              "    <tr style=\"text-align: right;\">\n",
              "      <th></th>\n",
              "      <th>brand</th>\n",
              "      <th>model</th>\n",
              "      <th>processor_brand</th>\n",
              "      <th>processor_gnrtn</th>\n",
              "      <th>ram_gb</th>\n",
              "      <th>ram_type</th>\n",
              "      <th>ssd</th>\n",
              "      <th>hdd</th>\n",
              "      <th>os</th>\n",
              "      <th>os_bit</th>\n",
              "      <th>...</th>\n",
              "      <th>Process Size (nm)</th>\n",
              "      <th>TDP (W)</th>\n",
              "      <th>Die Size (mm^2)</th>\n",
              "      <th>Transistors (million)</th>\n",
              "      <th>Freq (MHz)</th>\n",
              "      <th>Foundry</th>\n",
              "      <th>Vendor</th>\n",
              "      <th>FP16 GFLOPS</th>\n",
              "      <th>FP32 GFLOPS</th>\n",
              "      <th>FP64 GFLOPS</th>\n",
              "    </tr>\n",
              "  </thead>\n",
              "  <tbody>\n",
              "    <tr>\n",
              "      <th>0</th>\n",
              "      <td>Lenovo</td>\n",
              "      <td>A6-9225</td>\n",
              "      <td>AMD</td>\n",
              "      <td>10th</td>\n",
              "      <td>4 GB GB</td>\n",
              "      <td>DDR4</td>\n",
              "      <td>0 GB</td>\n",
              "      <td>1024 GB</td>\n",
              "      <td>Windows</td>\n",
              "      <td>64-bit</td>\n",
              "      <td>...</td>\n",
              "      <td>65.0</td>\n",
              "      <td>45.0</td>\n",
              "      <td>77.0</td>\n",
              "      <td>122.0</td>\n",
              "      <td>2200.0</td>\n",
              "      <td>Unknown</td>\n",
              "      <td>AMD</td>\n",
              "      <td>NaN</td>\n",
              "      <td>NaN</td>\n",
              "      <td>NaN</td>\n",
              "    </tr>\n",
              "    <tr>\n",
              "      <th>1</th>\n",
              "      <td>Lenovo</td>\n",
              "      <td>A6-9225</td>\n",
              "      <td>AMD</td>\n",
              "      <td>10th</td>\n",
              "      <td>4 GB GB</td>\n",
              "      <td>DDR4</td>\n",
              "      <td>0 GB</td>\n",
              "      <td>1024 GB</td>\n",
              "      <td>Windows</td>\n",
              "      <td>64-bit</td>\n",
              "      <td>...</td>\n",
              "      <td>14.0</td>\n",
              "      <td>35.0</td>\n",
              "      <td>192.0</td>\n",
              "      <td>4800.0</td>\n",
              "      <td>3200.0</td>\n",
              "      <td>Unknown</td>\n",
              "      <td>AMD</td>\n",
              "      <td>NaN</td>\n",
              "      <td>NaN</td>\n",
              "      <td>NaN</td>\n",
              "    </tr>\n",
              "    <tr>\n",
              "      <th>2</th>\n",
              "      <td>Lenovo</td>\n",
              "      <td>A6-9225</td>\n",
              "      <td>AMD</td>\n",
              "      <td>10th</td>\n",
              "      <td>4 GB GB</td>\n",
              "      <td>DDR4</td>\n",
              "      <td>0 GB</td>\n",
              "      <td>1024 GB</td>\n",
              "      <td>Windows</td>\n",
              "      <td>64-bit</td>\n",
              "      <td>...</td>\n",
              "      <td>45.0</td>\n",
              "      <td>125.0</td>\n",
              "      <td>258.0</td>\n",
              "      <td>758.0</td>\n",
              "      <td>3700.0</td>\n",
              "      <td>Unknown</td>\n",
              "      <td>AMD</td>\n",
              "      <td>NaN</td>\n",
              "      <td>NaN</td>\n",
              "      <td>NaN</td>\n",
              "    </tr>\n",
              "    <tr>\n",
              "      <th>3</th>\n",
              "      <td>Lenovo</td>\n",
              "      <td>A6-9225</td>\n",
              "      <td>AMD</td>\n",
              "      <td>10th</td>\n",
              "      <td>4 GB GB</td>\n",
              "      <td>DDR4</td>\n",
              "      <td>0 GB</td>\n",
              "      <td>1024 GB</td>\n",
              "      <td>Windows</td>\n",
              "      <td>64-bit</td>\n",
              "      <td>...</td>\n",
              "      <td>65.0</td>\n",
              "      <td>125.0</td>\n",
              "      <td>285.0</td>\n",
              "      <td>450.0</td>\n",
              "      <td>2400.0</td>\n",
              "      <td>Unknown</td>\n",
              "      <td>AMD</td>\n",
              "      <td>NaN</td>\n",
              "      <td>NaN</td>\n",
              "      <td>NaN</td>\n",
              "    </tr>\n",
              "    <tr>\n",
              "      <th>4</th>\n",
              "      <td>Lenovo</td>\n",
              "      <td>A6-9225</td>\n",
              "      <td>AMD</td>\n",
              "      <td>10th</td>\n",
              "      <td>4 GB GB</td>\n",
              "      <td>DDR4</td>\n",
              "      <td>0 GB</td>\n",
              "      <td>1024 GB</td>\n",
              "      <td>Windows</td>\n",
              "      <td>64-bit</td>\n",
              "      <td>...</td>\n",
              "      <td>90.0</td>\n",
              "      <td>89.0</td>\n",
              "      <td>156.0</td>\n",
              "      <td>154.0</td>\n",
              "      <td>2200.0</td>\n",
              "      <td>Unknown</td>\n",
              "      <td>AMD</td>\n",
              "      <td>NaN</td>\n",
              "      <td>NaN</td>\n",
              "      <td>NaN</td>\n",
              "    </tr>\n",
              "  </tbody>\n",
              "</table>\n",
              "<p>5 rows × 37 columns</p>\n",
              "</div>\n",
              "    <div class=\"colab-df-buttons\">\n",
              "\n",
              "  <div class=\"colab-df-container\">\n",
              "    <button class=\"colab-df-convert\" onclick=\"convertToInteractive('df-32fe979b-6de1-4b04-9d17-1c22d473722a')\"\n",
              "            title=\"Convert this dataframe to an interactive table.\"\n",
              "            style=\"display:none;\">\n",
              "\n",
              "  <svg xmlns=\"http://www.w3.org/2000/svg\" height=\"24px\" viewBox=\"0 -960 960 960\">\n",
              "    <path d=\"M120-120v-720h720v720H120Zm60-500h600v-160H180v160Zm220 220h160v-160H400v160Zm0 220h160v-160H400v160ZM180-400h160v-160H180v160Zm440 0h160v-160H620v160ZM180-180h160v-160H180v160Zm440 0h160v-160H620v160Z\"/>\n",
              "  </svg>\n",
              "    </button>\n",
              "\n",
              "  <style>\n",
              "    .colab-df-container {\n",
              "      display:flex;\n",
              "      gap: 12px;\n",
              "    }\n",
              "\n",
              "    .colab-df-convert {\n",
              "      background-color: #E8F0FE;\n",
              "      border: none;\n",
              "      border-radius: 50%;\n",
              "      cursor: pointer;\n",
              "      display: none;\n",
              "      fill: #1967D2;\n",
              "      height: 32px;\n",
              "      padding: 0 0 0 0;\n",
              "      width: 32px;\n",
              "    }\n",
              "\n",
              "    .colab-df-convert:hover {\n",
              "      background-color: #E2EBFA;\n",
              "      box-shadow: 0px 1px 2px rgba(60, 64, 67, 0.3), 0px 1px 3px 1px rgba(60, 64, 67, 0.15);\n",
              "      fill: #174EA6;\n",
              "    }\n",
              "\n",
              "    .colab-df-buttons div {\n",
              "      margin-bottom: 4px;\n",
              "    }\n",
              "\n",
              "    [theme=dark] .colab-df-convert {\n",
              "      background-color: #3B4455;\n",
              "      fill: #D2E3FC;\n",
              "    }\n",
              "\n",
              "    [theme=dark] .colab-df-convert:hover {\n",
              "      background-color: #434B5C;\n",
              "      box-shadow: 0px 1px 3px 1px rgba(0, 0, 0, 0.15);\n",
              "      filter: drop-shadow(0px 1px 2px rgba(0, 0, 0, 0.3));\n",
              "      fill: #FFFFFF;\n",
              "    }\n",
              "  </style>\n",
              "\n",
              "    <script>\n",
              "      const buttonEl =\n",
              "        document.querySelector('#df-32fe979b-6de1-4b04-9d17-1c22d473722a button.colab-df-convert');\n",
              "      buttonEl.style.display =\n",
              "        google.colab.kernel.accessAllowed ? 'block' : 'none';\n",
              "\n",
              "      async function convertToInteractive(key) {\n",
              "        const element = document.querySelector('#df-32fe979b-6de1-4b04-9d17-1c22d473722a');\n",
              "        const dataTable =\n",
              "          await google.colab.kernel.invokeFunction('convertToInteractive',\n",
              "                                                    [key], {});\n",
              "        if (!dataTable) return;\n",
              "\n",
              "        const docLinkHtml = 'Like what you see? Visit the ' +\n",
              "          '<a target=\"_blank\" href=https://colab.research.google.com/notebooks/data_table.ipynb>data table notebook</a>'\n",
              "          + ' to learn more about interactive tables.';\n",
              "        element.innerHTML = '';\n",
              "        dataTable['output_type'] = 'display_data';\n",
              "        await google.colab.output.renderOutput(dataTable, element);\n",
              "        const docLink = document.createElement('div');\n",
              "        docLink.innerHTML = docLinkHtml;\n",
              "        element.appendChild(docLink);\n",
              "      }\n",
              "    </script>\n",
              "  </div>\n",
              "\n",
              "\n",
              "<div id=\"df-0df9f403-b8f9-462a-a3a4-69cadb112408\">\n",
              "  <button class=\"colab-df-quickchart\" onclick=\"quickchart('df-0df9f403-b8f9-462a-a3a4-69cadb112408')\"\n",
              "            title=\"Suggest charts\"\n",
              "            style=\"display:none;\">\n",
              "\n",
              "<svg xmlns=\"http://www.w3.org/2000/svg\" height=\"24px\"viewBox=\"0 0 24 24\"\n",
              "     width=\"24px\">\n",
              "    <g>\n",
              "        <path d=\"M19 3H5c-1.1 0-2 .9-2 2v14c0 1.1.9 2 2 2h14c1.1 0 2-.9 2-2V5c0-1.1-.9-2-2-2zM9 17H7v-7h2v7zm4 0h-2V7h2v10zm4 0h-2v-4h2v4z\"/>\n",
              "    </g>\n",
              "</svg>\n",
              "  </button>\n",
              "\n",
              "<style>\n",
              "  .colab-df-quickchart {\n",
              "      --bg-color: #E8F0FE;\n",
              "      --fill-color: #1967D2;\n",
              "      --hover-bg-color: #E2EBFA;\n",
              "      --hover-fill-color: #174EA6;\n",
              "      --disabled-fill-color: #AAA;\n",
              "      --disabled-bg-color: #DDD;\n",
              "  }\n",
              "\n",
              "  [theme=dark] .colab-df-quickchart {\n",
              "      --bg-color: #3B4455;\n",
              "      --fill-color: #D2E3FC;\n",
              "      --hover-bg-color: #434B5C;\n",
              "      --hover-fill-color: #FFFFFF;\n",
              "      --disabled-bg-color: #3B4455;\n",
              "      --disabled-fill-color: #666;\n",
              "  }\n",
              "\n",
              "  .colab-df-quickchart {\n",
              "    background-color: var(--bg-color);\n",
              "    border: none;\n",
              "    border-radius: 50%;\n",
              "    cursor: pointer;\n",
              "    display: none;\n",
              "    fill: var(--fill-color);\n",
              "    height: 32px;\n",
              "    padding: 0;\n",
              "    width: 32px;\n",
              "  }\n",
              "\n",
              "  .colab-df-quickchart:hover {\n",
              "    background-color: var(--hover-bg-color);\n",
              "    box-shadow: 0 1px 2px rgba(60, 64, 67, 0.3), 0 1px 3px 1px rgba(60, 64, 67, 0.15);\n",
              "    fill: var(--button-hover-fill-color);\n",
              "  }\n",
              "\n",
              "  .colab-df-quickchart-complete:disabled,\n",
              "  .colab-df-quickchart-complete:disabled:hover {\n",
              "    background-color: var(--disabled-bg-color);\n",
              "    fill: var(--disabled-fill-color);\n",
              "    box-shadow: none;\n",
              "  }\n",
              "\n",
              "  .colab-df-spinner {\n",
              "    border: 2px solid var(--fill-color);\n",
              "    border-color: transparent;\n",
              "    border-bottom-color: var(--fill-color);\n",
              "    animation:\n",
              "      spin 1s steps(1) infinite;\n",
              "  }\n",
              "\n",
              "  @keyframes spin {\n",
              "    0% {\n",
              "      border-color: transparent;\n",
              "      border-bottom-color: var(--fill-color);\n",
              "      border-left-color: var(--fill-color);\n",
              "    }\n",
              "    20% {\n",
              "      border-color: transparent;\n",
              "      border-left-color: var(--fill-color);\n",
              "      border-top-color: var(--fill-color);\n",
              "    }\n",
              "    30% {\n",
              "      border-color: transparent;\n",
              "      border-left-color: var(--fill-color);\n",
              "      border-top-color: var(--fill-color);\n",
              "      border-right-color: var(--fill-color);\n",
              "    }\n",
              "    40% {\n",
              "      border-color: transparent;\n",
              "      border-right-color: var(--fill-color);\n",
              "      border-top-color: var(--fill-color);\n",
              "    }\n",
              "    60% {\n",
              "      border-color: transparent;\n",
              "      border-right-color: var(--fill-color);\n",
              "    }\n",
              "    80% {\n",
              "      border-color: transparent;\n",
              "      border-right-color: var(--fill-color);\n",
              "      border-bottom-color: var(--fill-color);\n",
              "    }\n",
              "    90% {\n",
              "      border-color: transparent;\n",
              "      border-bottom-color: var(--fill-color);\n",
              "    }\n",
              "  }\n",
              "</style>\n",
              "\n",
              "  <script>\n",
              "    async function quickchart(key) {\n",
              "      const quickchartButtonEl =\n",
              "        document.querySelector('#' + key + ' button');\n",
              "      quickchartButtonEl.disabled = true;  // To prevent multiple clicks.\n",
              "      quickchartButtonEl.classList.add('colab-df-spinner');\n",
              "      try {\n",
              "        const charts = await google.colab.kernel.invokeFunction(\n",
              "            'suggestCharts', [key], {});\n",
              "      } catch (error) {\n",
              "        console.error('Error during call to suggestCharts:', error);\n",
              "      }\n",
              "      quickchartButtonEl.classList.remove('colab-df-spinner');\n",
              "      quickchartButtonEl.classList.add('colab-df-quickchart-complete');\n",
              "    }\n",
              "    (() => {\n",
              "      let quickchartButtonEl =\n",
              "        document.querySelector('#df-0df9f403-b8f9-462a-a3a4-69cadb112408 button');\n",
              "      quickchartButtonEl.style.display =\n",
              "        google.colab.kernel.accessAllowed ? 'block' : 'none';\n",
              "    })();\n",
              "  </script>\n",
              "</div>\n",
              "    </div>\n",
              "  </div>\n"
            ],
            "application/vnd.google.colaboratory.intrinsic+json": {
              "type": "dataframe",
              "variable_name": "merged_data"
            }
          },
          "metadata": {},
          "execution_count": 147
        }
      ]
    },
    {
      "cell_type": "code",
      "source": [
        "#Several missing values after merging\n",
        "print(merged_data.isna().sum())"
      ],
      "metadata": {
        "id": "JtuHjYFwHJ0U",
        "colab": {
          "base_uri": "https://localhost:8080/"
        },
        "outputId": "2b8197a6-f871-4e5c-97fd-6faacf2ca9bd"
      },
      "execution_count": null,
      "outputs": [
        {
          "output_type": "stream",
          "name": "stdout",
          "text": [
            "brand                          0\n",
            "model                          0\n",
            "processor_brand                0\n",
            "processor_gnrtn                0\n",
            "ram_gb                         0\n",
            "ram_type                       0\n",
            "ssd                            0\n",
            "hdd                            0\n",
            "os                             0\n",
            "os_bit                         0\n",
            "graphic_card_gb                0\n",
            "weight                         0\n",
            "display_size                   0\n",
            "warranty                       0\n",
            "Touchscreen                    0\n",
            "msoffice                       0\n",
            "latest_price                   0\n",
            "old_price                      0\n",
            "discount                       0\n",
            "star_rating                    0\n",
            "ratings                        0\n",
            "reviews                        0\n",
            "key                           28\n",
            "Unnamed: 0                    28\n",
            "Product                       28\n",
            "Type                          28\n",
            "Release Date                  28\n",
            "Process Size (nm)             28\n",
            "TDP (W)                    24988\n",
            "Die Size (mm^2)           273992\n",
            "Transistors (million)     299900\n",
            "Freq (MHz)                    28\n",
            "Foundry                       28\n",
            "Vendor                        28\n",
            "FP16 GFLOPS              1111156\n",
            "FP32 GFLOPS              1017556\n",
            "FP64 GFLOPS              1060612\n",
            "dtype: int64\n"
          ]
        }
      ]
    },
    {
      "cell_type": "code",
      "source": [
        "#After merging, there are a significant number of NaN values, so I drop columns with a high percentage - threshold of 90%.\n",
        "threshold = int(0.9 * len(merged_data))\n",
        "merged_data.dropna(thresh=threshold, axis=1, inplace=True)"
      ],
      "metadata": {
        "id": "c6PwYLxgsshw"
      },
      "execution_count": null,
      "outputs": []
    },
    {
      "cell_type": "code",
      "source": [
        "print(merged_data.isna().sum())"
      ],
      "metadata": {
        "id": "ClW6mQ-3vHI7",
        "colab": {
          "base_uri": "https://localhost:8080/"
        },
        "outputId": "a0e4f1a0-6af5-43b5-8e49-cabe1963863b"
      },
      "execution_count": null,
      "outputs": [
        {
          "output_type": "stream",
          "name": "stdout",
          "text": [
            "brand                    0\n",
            "model                    0\n",
            "processor_brand          0\n",
            "processor_gnrtn          0\n",
            "ram_gb                   0\n",
            "ram_type                 0\n",
            "ssd                      0\n",
            "hdd                      0\n",
            "os                       0\n",
            "os_bit                   0\n",
            "graphic_card_gb          0\n",
            "weight                   0\n",
            "display_size             0\n",
            "warranty                 0\n",
            "Touchscreen              0\n",
            "msoffice                 0\n",
            "latest_price             0\n",
            "old_price                0\n",
            "discount                 0\n",
            "star_rating              0\n",
            "ratings                  0\n",
            "reviews                  0\n",
            "key                     28\n",
            "Unnamed: 0              28\n",
            "Product                 28\n",
            "Type                    28\n",
            "Release Date            28\n",
            "Process Size (nm)       28\n",
            "TDP (W)              24988\n",
            "Freq (MHz)              28\n",
            "Foundry                 28\n",
            "Vendor                  28\n",
            "dtype: int64\n"
          ]
        }
      ]
    },
    {
      "cell_type": "code",
      "source": [
        "merged_data.head()"
      ],
      "metadata": {
        "id": "WytCbS3ayPiZ"
      },
      "execution_count": null,
      "outputs": []
    },
    {
      "cell_type": "code",
      "source": [
        "#No need for the TDP (W) - I drop its column in order to delete all 28 rows with NaN on the merged_data\n",
        "merged_data = merged_data.drop('TDP (W)',axis=1)"
      ],
      "metadata": {
        "id": "uJLZqIMtxYKG"
      },
      "execution_count": null,
      "outputs": []
    },
    {
      "cell_type": "code",
      "source": [
        "#No need of the key column, as its values are similar to the processor_brand\n",
        "merged_data = merged_data.drop('key',axis=1)"
      ],
      "metadata": {
        "id": "8ecSpCyFbg2Y"
      },
      "execution_count": null,
      "outputs": []
    },
    {
      "cell_type": "code",
      "source": [
        "print(merged_data.isna().sum())"
      ],
      "metadata": {
        "id": "0rpjhkS51QoU",
        "colab": {
          "base_uri": "https://localhost:8080/"
        },
        "outputId": "53a6c174-244b-49cc-85b4-88d128ad5969"
      },
      "execution_count": null,
      "outputs": [
        {
          "output_type": "stream",
          "name": "stdout",
          "text": [
            "brand                 0\n",
            "model                 0\n",
            "processor_brand       0\n",
            "processor_gnrtn       0\n",
            "ram_gb                0\n",
            "ram_type              0\n",
            "ssd                   0\n",
            "hdd                   0\n",
            "os                    0\n",
            "os_bit                0\n",
            "graphic_card_gb       0\n",
            "weight                0\n",
            "display_size          0\n",
            "warranty              0\n",
            "Touchscreen           0\n",
            "msoffice              0\n",
            "latest_price          0\n",
            "old_price             0\n",
            "discount              0\n",
            "star_rating           0\n",
            "ratings               0\n",
            "reviews               0\n",
            "Unnamed: 0           28\n",
            "Product              28\n",
            "Type                 28\n",
            "Release Date         28\n",
            "Process Size (nm)    28\n",
            "Freq (MHz)           28\n",
            "Foundry              28\n",
            "Vendor               28\n",
            "dtype: int64\n"
          ]
        }
      ]
    },
    {
      "cell_type": "code",
      "source": [
        "#As the frequence is the most important column and still contains NaN values, I drop all 28 rows with NaN values\n",
        "merged_data.dropna(inplace=True)"
      ],
      "metadata": {
        "id": "iA7ZFciu1ITu"
      },
      "execution_count": null,
      "outputs": []
    },
    {
      "cell_type": "code",
      "source": [
        "#The data is ready for the next phase\n",
        "print(merged_data.isna().sum())"
      ],
      "metadata": {
        "colab": {
          "base_uri": "https://localhost:8080/"
        },
        "id": "7WCiGBMI1MYW",
        "outputId": "c27a4367-b22d-4d8d-a400-c13a6189cc42"
      },
      "execution_count": null,
      "outputs": [
        {
          "output_type": "stream",
          "name": "stdout",
          "text": [
            "brand                0\n",
            "model                0\n",
            "processor_brand      0\n",
            "processor_gnrtn      0\n",
            "ram_gb               0\n",
            "ram_type             0\n",
            "ssd                  0\n",
            "hdd                  0\n",
            "os                   0\n",
            "os_bit               0\n",
            "graphic_card_gb      0\n",
            "weight               0\n",
            "display_size         0\n",
            "warranty             0\n",
            "Touchscreen          0\n",
            "msoffice             0\n",
            "latest_price         0\n",
            "old_price            0\n",
            "discount             0\n",
            "star_rating          0\n",
            "ratings              0\n",
            "reviews              0\n",
            "Unnamed: 0           0\n",
            "Product              0\n",
            "Type                 0\n",
            "Release Date         0\n",
            "Process Size (nm)    0\n",
            "Freq (MHz)           0\n",
            "Foundry              0\n",
            "Vendor               0\n",
            "dtype: int64\n"
          ]
        }
      ]
    },
    {
      "cell_type": "code",
      "source": [
        "print(merged_data.info())"
      ],
      "metadata": {
        "colab": {
          "base_uri": "https://localhost:8080/"
        },
        "id": "BVD_iB_h8TeG",
        "outputId": "a09b488e-0694-4e2c-8b30-fbb5ec3b3892"
      },
      "execution_count": null,
      "outputs": [
        {
          "output_type": "stream",
          "name": "stdout",
          "text": [
            "<class 'pandas.core.frame.DataFrame'>\n",
            "Index: 1165000 entries, 0 to 1165027\n",
            "Data columns (total 30 columns):\n",
            " #   Column             Non-Null Count    Dtype  \n",
            "---  ------             --------------    -----  \n",
            " 0   brand              1165000 non-null  object \n",
            " 1   model              1165000 non-null  object \n",
            " 2   processor_brand    1165000 non-null  object \n",
            " 3   processor_gnrtn    1165000 non-null  object \n",
            " 4   ram_gb             1165000 non-null  object \n",
            " 5   ram_type           1165000 non-null  object \n",
            " 6   ssd                1165000 non-null  object \n",
            " 7   hdd                1165000 non-null  object \n",
            " 8   os                 1165000 non-null  object \n",
            " 9   os_bit             1165000 non-null  object \n",
            " 10  graphic_card_gb    1165000 non-null  int64  \n",
            " 11  weight             1165000 non-null  object \n",
            " 12  display_size       1165000 non-null  object \n",
            " 13  warranty           1165000 non-null  int64  \n",
            " 14  Touchscreen        1165000 non-null  object \n",
            " 15  msoffice           1165000 non-null  object \n",
            " 16  latest_price       1165000 non-null  int64  \n",
            " 17  old_price          1165000 non-null  int64  \n",
            " 18  discount           1165000 non-null  int64  \n",
            " 19  star_rating        1165000 non-null  float64\n",
            " 20  ratings            1165000 non-null  int64  \n",
            " 21  reviews            1165000 non-null  int64  \n",
            " 22  Unnamed: 0         1165000 non-null  float64\n",
            " 23  Product            1165000 non-null  object \n",
            " 24  Type               1165000 non-null  object \n",
            " 25  Release Date       1165000 non-null  object \n",
            " 26  Process Size (nm)  1165000 non-null  float64\n",
            " 27  Freq (MHz)         1165000 non-null  float64\n",
            " 28  Foundry            1165000 non-null  object \n",
            " 29  Vendor             1165000 non-null  object \n",
            "dtypes: float64(4), int64(7), object(19)\n",
            "memory usage: 275.5+ MB\n",
            "None\n"
          ]
        }
      ]
    },
    {
      "cell_type": "markdown",
      "source": [
        "# **Stage 4**\n",
        "Choose and train Estimator."
      ],
      "metadata": {
        "id": "QOZ3KnxR7QCs"
      }
    },
    {
      "cell_type": "code",
      "source": [
        "#Now that the data is cleaned and merged, I am proceeding with setting up and training using the linear regression model.\n",
        "from sklearn.linear_model import LinearRegression\n",
        "from sklearn.model_selection import train_test_split"
      ],
      "metadata": {
        "id": "WxOtxpYLhM05"
      },
      "execution_count": null,
      "outputs": []
    },
    {
      "cell_type": "code",
      "source": [
        "x = merged_data[['Freq (MHz)']]  #independent\n",
        "y = merged_data['latest_price'] #dependent\n",
        "\n",
        "#Split into training and testing\n",
        "X_train, X_test, Y_train,Y_test = train_test_split(x, y, test_size=0.3, random_state=42)"
      ],
      "metadata": {
        "id": "45Hk-85g9RYu"
      },
      "execution_count": null,
      "outputs": []
    },
    {
      "cell_type": "code",
      "source": [
        "#Fitting the model\n",
        "model = LinearRegression()\n",
        "model.fit(X_train, Y_train)"
      ],
      "metadata": {
        "colab": {
          "base_uri": "https://localhost:8080/",
          "height": 74
        },
        "id": "r7AG3wUk9uC0",
        "outputId": "5193cd11-de69-4819-9f7a-e8f3cfe5893b"
      },
      "execution_count": null,
      "outputs": [
        {
          "output_type": "execute_result",
          "data": {
            "text/plain": [
              "LinearRegression()"
            ],
            "text/html": [
              "<style>#sk-container-id-10 {color: black;background-color: white;}#sk-container-id-10 pre{padding: 0;}#sk-container-id-10 div.sk-toggleable {background-color: white;}#sk-container-id-10 label.sk-toggleable__label {cursor: pointer;display: block;width: 100%;margin-bottom: 0;padding: 0.3em;box-sizing: border-box;text-align: center;}#sk-container-id-10 label.sk-toggleable__label-arrow:before {content: \"▸\";float: left;margin-right: 0.25em;color: #696969;}#sk-container-id-10 label.sk-toggleable__label-arrow:hover:before {color: black;}#sk-container-id-10 div.sk-estimator:hover label.sk-toggleable__label-arrow:before {color: black;}#sk-container-id-10 div.sk-toggleable__content {max-height: 0;max-width: 0;overflow: hidden;text-align: left;background-color: #f0f8ff;}#sk-container-id-10 div.sk-toggleable__content pre {margin: 0.2em;color: black;border-radius: 0.25em;background-color: #f0f8ff;}#sk-container-id-10 input.sk-toggleable__control:checked~div.sk-toggleable__content {max-height: 200px;max-width: 100%;overflow: auto;}#sk-container-id-10 input.sk-toggleable__control:checked~label.sk-toggleable__label-arrow:before {content: \"▾\";}#sk-container-id-10 div.sk-estimator input.sk-toggleable__control:checked~label.sk-toggleable__label {background-color: #d4ebff;}#sk-container-id-10 div.sk-label input.sk-toggleable__control:checked~label.sk-toggleable__label {background-color: #d4ebff;}#sk-container-id-10 input.sk-hidden--visually {border: 0;clip: rect(1px 1px 1px 1px);clip: rect(1px, 1px, 1px, 1px);height: 1px;margin: -1px;overflow: hidden;padding: 0;position: absolute;width: 1px;}#sk-container-id-10 div.sk-estimator {font-family: monospace;background-color: #f0f8ff;border: 1px dotted black;border-radius: 0.25em;box-sizing: border-box;margin-bottom: 0.5em;}#sk-container-id-10 div.sk-estimator:hover {background-color: #d4ebff;}#sk-container-id-10 div.sk-parallel-item::after {content: \"\";width: 100%;border-bottom: 1px solid gray;flex-grow: 1;}#sk-container-id-10 div.sk-label:hover label.sk-toggleable__label {background-color: #d4ebff;}#sk-container-id-10 div.sk-serial::before {content: \"\";position: absolute;border-left: 1px solid gray;box-sizing: border-box;top: 0;bottom: 0;left: 50%;z-index: 0;}#sk-container-id-10 div.sk-serial {display: flex;flex-direction: column;align-items: center;background-color: white;padding-right: 0.2em;padding-left: 0.2em;position: relative;}#sk-container-id-10 div.sk-item {position: relative;z-index: 1;}#sk-container-id-10 div.sk-parallel {display: flex;align-items: stretch;justify-content: center;background-color: white;position: relative;}#sk-container-id-10 div.sk-item::before, #sk-container-id-10 div.sk-parallel-item::before {content: \"\";position: absolute;border-left: 1px solid gray;box-sizing: border-box;top: 0;bottom: 0;left: 50%;z-index: -1;}#sk-container-id-10 div.sk-parallel-item {display: flex;flex-direction: column;z-index: 1;position: relative;background-color: white;}#sk-container-id-10 div.sk-parallel-item:first-child::after {align-self: flex-end;width: 50%;}#sk-container-id-10 div.sk-parallel-item:last-child::after {align-self: flex-start;width: 50%;}#sk-container-id-10 div.sk-parallel-item:only-child::after {width: 0;}#sk-container-id-10 div.sk-dashed-wrapped {border: 1px dashed gray;margin: 0 0.4em 0.5em 0.4em;box-sizing: border-box;padding-bottom: 0.4em;background-color: white;}#sk-container-id-10 div.sk-label label {font-family: monospace;font-weight: bold;display: inline-block;line-height: 1.2em;}#sk-container-id-10 div.sk-label-container {text-align: center;}#sk-container-id-10 div.sk-container {/* jupyter's `normalize.less` sets `[hidden] { display: none; }` but bootstrap.min.css set `[hidden] { display: none !important; }` so we also need the `!important` here to be able to override the default hidden behavior on the sphinx rendered scikit-learn.org. See: https://github.com/scikit-learn/scikit-learn/issues/21755 */display: inline-block !important;position: relative;}#sk-container-id-10 div.sk-text-repr-fallback {display: none;}</style><div id=\"sk-container-id-10\" class=\"sk-top-container\"><div class=\"sk-text-repr-fallback\"><pre>LinearRegression()</pre><b>In a Jupyter environment, please rerun this cell to show the HTML representation or trust the notebook. <br />On GitHub, the HTML representation is unable to render, please try loading this page with nbviewer.org.</b></div><div class=\"sk-container\" hidden><div class=\"sk-item\"><div class=\"sk-estimator sk-toggleable\"><input class=\"sk-toggleable__control sk-hidden--visually\" id=\"sk-estimator-id-10\" type=\"checkbox\" checked><label for=\"sk-estimator-id-10\" class=\"sk-toggleable__label sk-toggleable__label-arrow\">LinearRegression</label><div class=\"sk-toggleable__content\"><pre>LinearRegression()</pre></div></div></div></div></div>"
            ]
          },
          "metadata": {},
          "execution_count": 159
        }
      ]
    },
    {
      "cell_type": "code",
      "source": [
        "#Predicting\n",
        "Y_pred = model.predict(X_test)\n"
      ],
      "metadata": {
        "id": "SwkVyg9L-jvs"
      },
      "execution_count": null,
      "outputs": []
    },
    {
      "cell_type": "code",
      "source": [
        "Y_pred"
      ],
      "metadata": {
        "colab": {
          "base_uri": "https://localhost:8080/"
        },
        "id": "2KZ25WE5-l7T",
        "outputId": "64329007-9e7e-4a4b-875b-943f61a1672c"
      },
      "execution_count": null,
      "outputs": [
        {
          "output_type": "execute_result",
          "data": {
            "text/plain": [
              "array([75179.94389167, 74760.82431934, 73693.97449888, ...,\n",
              "       74646.51898144, 74074.9922919 , 73922.58517469])"
            ]
          },
          "metadata": {},
          "execution_count": 161
        }
      ]
    },
    {
      "cell_type": "markdown",
      "source": [
        "# **Stage 5**\n",
        "Evaluate your model and revisit 4...repeat.."
      ],
      "metadata": {
        "id": "ZIz-Ez-sgsQe"
      }
    },
    {
      "cell_type": "code",
      "source": [
        "from sklearn.metrics import mean_squared_error, r2_score"
      ],
      "metadata": {
        "id": "UV_EVv-o8N-e"
      },
      "execution_count": null,
      "outputs": []
    },
    {
      "cell_type": "code",
      "source": [
        "#Evaluating the model\n",
        "#r_sq = model.score(x, y)\n",
        "#print(f\"coefficient of determination: {r_sq}\")\n",
        "#This high value might be due to outliers, a poor model fit"
      ],
      "metadata": {
        "id": "tUJT-BYqhNie"
      },
      "execution_count": null,
      "outputs": []
    },
    {
      "cell_type": "code",
      "source": [
        "#MSE - The lower the result, the accurate the prediction\n",
        "#Measuring the average squared difference between the actual prices and the predicted prices.\n",
        "mse = mean_squared_error(Y_test, Y_pred)\n",
        "\n",
        "#No very accurate because the value of MSE is too high. This might be due to outliers, the way the model is fit, or the fact I chose frequency for prediction.\n",
        "print(\"Mean squared error:\", mse)\n"
      ],
      "metadata": {
        "colab": {
          "base_uri": "https://localhost:8080/"
        },
        "id": "V2oSbZrZMz0v",
        "outputId": "0d7c0802-cd4b-49eb-fe3f-8c5c3ab7e603"
      },
      "execution_count": null,
      "outputs": [
        {
          "output_type": "stream",
          "name": "stdout",
          "text": [
            "Mean squared error: 1920365955.7330196\n"
          ]
        }
      ]
    },
    {
      "cell_type": "code",
      "source": [
        "#R2_score - Understand if frequency variable is a strong predictor of laptop prices\n",
        "r2 = r2_score(Y_test, Y_pred)\n",
        "\n",
        "#R2_score value is close to 0, which indicates that the model covers nearly none of the differences in laptop prices.\n",
        "print(\"R-squared score:\", r2)"
      ],
      "metadata": {
        "id": "KiFEDgiE4mf8",
        "colab": {
          "base_uri": "https://localhost:8080/"
        },
        "outputId": "9b04357d-acf5-4bb3-8a52-883ee7b1987f"
      },
      "execution_count": null,
      "outputs": [
        {
          "output_type": "stream",
          "name": "stdout",
          "text": [
            "R-squared score: 8.767925567554347e-05\n"
          ]
        }
      ]
    },
    {
      "cell_type": "code",
      "source": [
        "#Visualising actual vs predicted prices to assess the performance\n",
        "plt.scatter(Y_test, Y_pred)\n",
        "plt.xlabel('Actual prices')\n",
        "plt.ylabel('Predicted prices')\n",
        "plt.title('Actual and Predicted Prices')\n",
        "plt.show()"
      ],
      "metadata": {
        "colab": {
          "base_uri": "https://localhost:8080/",
          "height": 472
        },
        "id": "aTSSXD6YCF03",
        "outputId": "54cb430c-a59a-4b8e-a201-b6614c1b90cb"
      },
      "execution_count": null,
      "outputs": [
        {
          "output_type": "display_data",
          "data": {
            "text/plain": [
              "<Figure size 640x480 with 1 Axes>"
            ],
            "image/png": "[encoded data removed]"
          },
          "metadata": {}
        }
      ]
    },
    {
      "cell_type": "code",
      "source": [
        "#calculate residuals\n",
        "residuals = Y_test - Y_pred\n",
        "\n",
        "#observing from the residuals plot\n",
        "plt.scatter(Y_pred,residuals)\n",
        "plt.xlabel('Predicted prices')\n",
        "plt.ylabel('Residuals')\n",
        "plt.title('Residual Plot')\n",
        "plt.axhline(y=0, color='red', linestyle='--')\n",
        "plt.show()\n",
        "\n",
        "#The plot shows that the residuals are not randomly distributed around the horizontal line at zero, which indicate a non-linear relationship"
      ],
      "metadata": {
        "id": "BKW_fCPC5RIh",
        "colab": {
          "base_uri": "https://localhost:8080/",
          "height": 472
        },
        "outputId": "26b89bda-d0d7-485d-d7f9-f6a66cfd725b"
      },
      "execution_count": null,
      "outputs": [
        {
          "output_type": "display_data",
          "data": {
            "text/plain": [
              "<Figure size 640x480 with 1 Axes>"
            ],
            "image/png": "[encoded data removed]"
          },
          "metadata": {}
        }
      ]
    },
    {
      "cell_type": "code",
      "source": [
        "#Identifying the outliers by calculating the standard deviation of residuals.\n",
        "#outliers are defined as observations with residuals, whihc exceed multiple times the standard deviation.\n",
        "#It is indicating issues with the way the model fit or data quality.\n",
        "std_dev = residuals.std()\n",
        "outliers = residuals[(residuals > 3*std_dev) | (residuals < -3*std_dev)]\n",
        "print(\"Outliers:\", outliers)"
      ],
      "metadata": {
        "id": "sGFrywz75UNd",
        "colab": {
          "base_uri": "https://localhost:8080/"
        },
        "outputId": "f4c0d922-d4eb-4986-c460-99fe1f0cc7a8"
      },
      "execution_count": null,
      "outputs": [
        {
          "output_type": "stream",
          "name": "stdout",
          "text": [
            "Outliers: 593951     216238.666784\n",
            "649110     132605.379239\n",
            "687969     165163.537403\n",
            "813820     270781.582798\n",
            "792530     195292.805652\n",
            "               ...      \n",
            "736808     150648.295253\n",
            "688842     165417.295253\n",
            "1156441    160983.590911\n",
            "791854     225648.295253\n",
            "772037     160495.888136\n",
            "Name: latest_price, Length: 7507, dtype: float64\n"
          ]
        }
      ]
    },
    {
      "cell_type": "code",
      "source": [
        "from sklearn.preprocessing import PolynomialFeatures"
      ],
      "metadata": {
        "id": "DeYapzkPfb5D"
      },
      "execution_count": null,
      "outputs": []
    },
    {
      "cell_type": "code",
      "source": [
        "#Because of these poor perfomances, I use PolynomialFeatures to capture to issue of outliers and non-linear, better for refinement\n",
        "poly = PolynomialFeatures(degree=2)\n",
        "X_poly = poly.fit_transform(x)"
      ],
      "metadata": {
        "id": "_TXGA-Vxfe9k"
      },
      "execution_count": null,
      "outputs": []
    },
    {
      "cell_type": "code",
      "source": [
        "X_train_poly, X_test_poly, Y_train_poly, Y_test_ploy = train_test_split(X_poly, y, test_size=0.3)"
      ],
      "metadata": {
        "id": "OfpmiLhthAlE"
      },
      "execution_count": null,
      "outputs": []
    },
    {
      "cell_type": "code",
      "source": [
        "model_poly = LinearRegression()\n",
        "model_poly.fit(X_train_poly, Y_train_poly)"
      ],
      "metadata": {
        "colab": {
          "base_uri": "https://localhost:8080/",
          "height": 74
        },
        "id": "n1f53lrxhIHk",
        "outputId": "cbe0472b-3b39-4bfe-f883-2ce3216dcc2e"
      },
      "execution_count": null,
      "outputs": [
        {
          "output_type": "execute_result",
          "data": {
            "text/plain": [
              "LinearRegression()"
            ],
            "text/html": [
              "<style>#sk-container-id-11 {color: black;background-color: white;}#sk-container-id-11 pre{padding: 0;}#sk-container-id-11 div.sk-toggleable {background-color: white;}#sk-container-id-11 label.sk-toggleable__label {cursor: pointer;display: block;width: 100%;margin-bottom: 0;padding: 0.3em;box-sizing: border-box;text-align: center;}#sk-container-id-11 label.sk-toggleable__label-arrow:before {content: \"▸\";float: left;margin-right: 0.25em;color: #696969;}#sk-container-id-11 label.sk-toggleable__label-arrow:hover:before {color: black;}#sk-container-id-11 div.sk-estimator:hover label.sk-toggleable__label-arrow:before {color: black;}#sk-container-id-11 div.sk-toggleable__content {max-height: 0;max-width: 0;overflow: hidden;text-align: left;background-color: #f0f8ff;}#sk-container-id-11 div.sk-toggleable__content pre {margin: 0.2em;color: black;border-radius: 0.25em;background-color: #f0f8ff;}#sk-container-id-11 input.sk-toggleable__control:checked~div.sk-toggleable__content {max-height: 200px;max-width: 100%;overflow: auto;}#sk-container-id-11 input.sk-toggleable__control:checked~label.sk-toggleable__label-arrow:before {content: \"▾\";}#sk-container-id-11 div.sk-estimator input.sk-toggleable__control:checked~label.sk-toggleable__label {background-color: #d4ebff;}#sk-container-id-11 div.sk-label input.sk-toggleable__control:checked~label.sk-toggleable__label {background-color: #d4ebff;}#sk-container-id-11 input.sk-hidden--visually {border: 0;clip: rect(1px 1px 1px 1px);clip: rect(1px, 1px, 1px, 1px);height: 1px;margin: -1px;overflow: hidden;padding: 0;position: absolute;width: 1px;}#sk-container-id-11 div.sk-estimator {font-family: monospace;background-color: #f0f8ff;border: 1px dotted black;border-radius: 0.25em;box-sizing: border-box;margin-bottom: 0.5em;}#sk-container-id-11 div.sk-estimator:hover {background-color: #d4ebff;}#sk-container-id-11 div.sk-parallel-item::after {content: \"\";width: 100%;border-bottom: 1px solid gray;flex-grow: 1;}#sk-container-id-11 div.sk-label:hover label.sk-toggleable__label {background-color: #d4ebff;}#sk-container-id-11 div.sk-serial::before {content: \"\";position: absolute;border-left: 1px solid gray;box-sizing: border-box;top: 0;bottom: 0;left: 50%;z-index: 0;}#sk-container-id-11 div.sk-serial {display: flex;flex-direction: column;align-items: center;background-color: white;padding-right: 0.2em;padding-left: 0.2em;position: relative;}#sk-container-id-11 div.sk-item {position: relative;z-index: 1;}#sk-container-id-11 div.sk-parallel {display: flex;align-items: stretch;justify-content: center;background-color: white;position: relative;}#sk-container-id-11 div.sk-item::before, #sk-container-id-11 div.sk-parallel-item::before {content: \"\";position: absolute;border-left: 1px solid gray;box-sizing: border-box;top: 0;bottom: 0;left: 50%;z-index: -1;}#sk-container-id-11 div.sk-parallel-item {display: flex;flex-direction: column;z-index: 1;position: relative;background-color: white;}#sk-container-id-11 div.sk-parallel-item:first-child::after {align-self: flex-end;width: 50%;}#sk-container-id-11 div.sk-parallel-item:last-child::after {align-self: flex-start;width: 50%;}#sk-container-id-11 div.sk-parallel-item:only-child::after {width: 0;}#sk-container-id-11 div.sk-dashed-wrapped {border: 1px dashed gray;margin: 0 0.4em 0.5em 0.4em;box-sizing: border-box;padding-bottom: 0.4em;background-color: white;}#sk-container-id-11 div.sk-label label {font-family: monospace;font-weight: bold;display: inline-block;line-height: 1.2em;}#sk-container-id-11 div.sk-label-container {text-align: center;}#sk-container-id-11 div.sk-container {/* jupyter's `normalize.less` sets `[hidden] { display: none; }` but bootstrap.min.css set `[hidden] { display: none !important; }` so we also need the `!important` here to be able to override the default hidden behavior on the sphinx rendered scikit-learn.org. See: https://github.com/scikit-learn/scikit-learn/issues/21755 */display: inline-block !important;position: relative;}#sk-container-id-11 div.sk-text-repr-fallback {display: none;}</style><div id=\"sk-container-id-11\" class=\"sk-top-container\"><div class=\"sk-text-repr-fallback\"><pre>LinearRegression()</pre><b>In a Jupyter environment, please rerun this cell to show the HTML representation or trust the notebook. <br />On GitHub, the HTML representation is unable to render, please try loading this page with nbviewer.org.</b></div><div class=\"sk-container\" hidden><div class=\"sk-item\"><div class=\"sk-estimator sk-toggleable\"><input class=\"sk-toggleable__control sk-hidden--visually\" id=\"sk-estimator-id-11\" type=\"checkbox\" checked><label for=\"sk-estimator-id-11\" class=\"sk-toggleable__label sk-toggleable__label-arrow\">LinearRegression</label><div class=\"sk-toggleable__content\"><pre>LinearRegression()</pre></div></div></div></div></div>"
            ]
          },
          "metadata": {},
          "execution_count": 171
        }
      ]
    },
    {
      "cell_type": "code",
      "source": [
        "#Predicting with the polynomial model\n",
        "Y_pred_poly = model_poly.predict(X_test_poly)"
      ],
      "metadata": {
        "id": "6n154pv3hVNo"
      },
      "execution_count": null,
      "outputs": []
    },
    {
      "cell_type": "code",
      "source": [
        "#MSE - The lower the result, the accurate the prediction\n",
        "\n",
        "#Measuring the new average squared difference between the actual prices and the predicted prices.\n",
        "mse_poly = mean_squared_error(Y_test_ploy, Y_pred_poly)\n",
        "\n",
        "#Almost nothing changes because the value of MSE is still too high.\n",
        "print(\"Mean squared error:\", mse_poly)"
      ],
      "metadata": {
        "colab": {
          "base_uri": "https://localhost:8080/"
        },
        "id": "1xZDneBZkzM5",
        "outputId": "169e4d71-0b0a-4473-c5c5-e3ad43b80905"
      },
      "execution_count": null,
      "outputs": [
        {
          "output_type": "stream",
          "name": "stdout",
          "text": [
            "Mean squared error: 1922228555.2196438\n"
          ]
        }
      ]
    },
    {
      "cell_type": "code",
      "source": [
        "#R2 - Understand if frequency variable is a strong predictor of the laptop price\n",
        "r2_poly = r2_score(Y_test_ploy, Y_pred_poly)\n",
        "\n",
        "#A slight change in the value but still too close to 0.\n",
        "print(\"R-squared score:\", r2_poly)\n"
      ],
      "metadata": {
        "colab": {
          "base_uri": "https://localhost:8080/"
        },
        "id": "DLxWPgCVhYJE",
        "outputId": "826522e0-a317-4a30-c8dd-77abd1d3beee"
      },
      "execution_count": null,
      "outputs": [
        {
          "output_type": "stream",
          "name": "stdout",
          "text": [
            "R-squared score: 0.00010805199693852963\n"
          ]
        }
      ]
    },
    {
      "cell_type": "code",
      "source": [
        "\n",
        "#Visualising actual vs predicted prices to assess the performance after refinement\n",
        "plt.figure(figsize=(10, 6))\n",
        "plt.scatter(Y_test_ploy, Y_pred_poly)\n",
        "plt.xlabel('Actual Prices')\n",
        "plt.ylabel('Predicted Prices')\n",
        "plt.title('Actual and Predicted Prices')\n",
        "plt.axhline(y=0, color='red', linestyle='--')\n",
        "plt.show()"
      ],
      "metadata": {
        "id": "ZLfbWA-xiXL2"
      },
      "execution_count": null,
      "outputs": []
    },
    {
      "cell_type": "markdown",
      "source": [
        "# **Stage 6**\n",
        "***Conclusions***\n",
        "\n"
      ],
      "metadata": {
        "id": "4APZXYxS7Yef"
      }
    },
    {
      "cell_type": "markdown",
      "source": [
        "In conclusion, the exploration and understanding of the factors affecting laptop prices, specifically focusing on the effect of processor frequencies (Freq MHz), using linear regression to model and predict laptop prices based solely on processor frequencies, indicated that there is low predictive power. The results after using a different model (PolynomialFeatures) still failed to improve predictions. This suggests that processor frequency alone does not significantly impact laptop prices, or at least it does not show a strong linear or simple non-linear relationship with the prices."
      ],
      "metadata": {
        "id": "joNaHiMMhO6V"
      }
    }
  ],
  "metadata": {
    "interpreter": {
      "hash": "31f2aee4e71d21fbe5cf8b01ff0e069b9275f58929596ceb00d14d90e3e16cd6"
    },
    "kernelspec": {
      "display_name": "Python 3.6.9 64-bit",
      "language": "python",
      "name": "python3"
    },
    "language_info": {
      "codemirror_mode": {
        "name": "ipython",
        "version": 3
      },
      "file_extension": ".py",
      "mimetype": "text/x-python",
      "name": "python",
      "nbconvert_exporter": "python",
      "pygments_lexer": "ipython3",
      "version": "3.6.9"
    },
    "orig_nbformat": 4,
    "colab": {
      "provenance": [],
      "include_colab_link": true
    }
  },
  "nbformat": 4,
  "nbformat_minor": 0
}