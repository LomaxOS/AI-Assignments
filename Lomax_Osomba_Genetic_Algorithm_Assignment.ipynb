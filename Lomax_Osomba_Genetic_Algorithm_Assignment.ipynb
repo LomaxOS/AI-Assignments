{
  "nbformat": 4,
  "nbformat_minor": 0,
  "metadata": {
    "colab": {
      "provenance": [],
      "include_colab_link": true
    },
    "kernelspec": {
      "name": "python3",
      "display_name": "Python 3"
    },
    "language_info": {
      "name": "python"
    }
  },
  "cells": [
    {
      "cell_type": "markdown",
      "metadata": {
        "id": "view-in-github",
        "colab_type": "text"
      },
      "source": [
        "<a href=\"https://colab.research.google.com/github/LomaxOS/Genetic-Algorithm/blob/main/Lomax_Osomba_Genetic_Algorithm_Assignment.ipynb\" target=\"_parent\"><img src=\"https://colab.research.google.com/assets/colab-badge.svg\" alt=\"Open In Colab\"/></a>"
      ]
    },
    {
      "cell_type": "markdown",
      "source": [
        "# Genetic Algorithm Assignment\n",
        "30% of the overall grade for this module\n",
        "\n",
        "Marks indciated in sections below are based on percentage of marks allocated for this module\n",
        "\n",
        "In this assignment you must choose a problem, and attempt to use the Genetic Alogrithm that we developed in class to solve this problem.\n",
        "\n",
        "\n",
        "\n"
      ],
      "metadata": {
        "id": "UuU23he_msf6"
      }
    },
    {
      "cell_type": "markdown",
      "source": [
        "## The Problem         **(~30%)**\n",
        "\n",
        "*   Description of the problem\n",
        "\n",
        "\n",
        "\n"
      ],
      "metadata": {
        "id": "xOpdeYD9oLWi"
      }
    },
    {
      "cell_type": "markdown",
      "source": [
        "---\n",
        "Travelling Salesman Problem (TSP): Given a list of cities and distances between each pair of cities, find the shortest possible route by visiting each city exaclty once and returning to the starting city.\n",
        "\n",
        "![image.png](data:image/png;base64,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)\n",
        "\n",
        "---\n",
        "\n"
      ],
      "metadata": {
        "id": "4uQ4i7aopwP0"
      }
    },
    {
      "cell_type": "markdown",
      "source": [
        "*   Discussion of the suitablity of Genetic Algorithms\n"
      ],
      "metadata": {
        "id": "rWvzNi3uqCKy"
      }
    },
    {
      "cell_type": "markdown",
      "source": [
        "------\n",
        "\n",
        "Genetic algorithms (GAs) are effective for finding approximate solutions to optimisation and search problems through evolutionary processes such as crossover and mutation. In solving the TSP, GAs start by generating an initial population of routes that representes a list of cities. These routes are then evolved over successive generations, with the algorithm selecting and refining high-quality routes based on their fitness, which is measured by the total distance of the route. This process allows GAs to efficiently explore the solution space and find approximately the optimal routes for the TSP\n",
        "\n",
        "------\n"
      ],
      "metadata": {
        "id": "aMzEaqZAqmYT"
      }
    },
    {
      "cell_type": "markdown",
      "source": [
        "*   Complexity of the problem  (Overall marks allocated based on ..)"
      ],
      "metadata": {
        "id": "1c4zr525qHk0"
      }
    },
    {
      "cell_type": "markdown",
      "source": [
        "# The problem and the cost function   **(~20%)**"
      ],
      "metadata": {
        "id": "0LgfBTtdq11F"
      }
    },
    {
      "cell_type": "code",
      "source": [
        "import numpy as np\n",
        "import random\n",
        "from copy import deepcopy"
      ],
      "metadata": {
        "id": "7O5RTy40aPHB"
      },
      "execution_count": null,
      "outputs": []
    },
    {
      "cell_type": "code",
      "source": [
        "#Return the distance of city pairs\n",
        "def distance(from_City, to_City):\n",
        "\n",
        "  xDistance = abs(from_City.x - to_City.x)\n",
        "  yDistance = abs(from_City.y - to_City.y)\n",
        "  distance = np.sqrt((xDistance ** 2) + (yDistance ** 2))\n",
        "\n",
        "  return distance"
      ],
      "metadata": {
        "id": "u-oGIjLSZMoS"
      },
      "execution_count": null,
      "outputs": []
    },
    {
      "cell_type": "code",
      "source": [
        "#City\n",
        "class Problem:\n",
        "    def __init__(self, x, y):\n",
        "        self.x = x\n",
        "        self.y = y\n",
        "\n",
        "    def __repr__(self):\n",
        "        return f\"({self.x},{self.y})\""
      ],
      "metadata": {
        "id": "rwIdSMNqrPS5"
      },
      "execution_count": null,
      "outputs": []
    },
    {
      "cell_type": "markdown",
      "source": [
        "# The Individual **(~30%)**\n",
        "\n",
        "\n",
        "*   Chromosone\n",
        "*   Crossover\n",
        "*   Mutation\n",
        "\n"
      ],
      "metadata": {
        "id": "wBQQjO4brWFA"
      }
    },
    {
      "cell_type": "markdown",
      "source": [
        "## Discussion and justification on the approaches taken for the above"
      ],
      "metadata": {
        "id": "-Yr5xlW3rx21"
      }
    },
    {
      "cell_type": "markdown",
      "source": [
        "---\n",
        "\n",
        "The chromosomes for the TSP are generated by creating a list of cities, with each city represented by its coordinates (x and y) encapsulated within the _Problem_ class. Solving the TSP aims finding the best solution, which is the shortest possible route that visits each city on the map exactly once and returning to the starting city. Therefore, the cost function of this specific problem is designed to calculate the total distance of a route by summing up the distances between consecutive city pairs, visited in a random sequence. This approach to the cost function is somewhat similar to using a weighted graph algorithm, where each edge connecting adjacent vertices (cities in this case) is assigned a value representing the distance between them. The Euclidean distance formula is employed to calculate the distances between city pairs.\n",
        "\n",
        "The individual class, which is the _Map_, plays the role of creation chromosomes, which representes the routes. Each route is generated randomly on the map using the 'shuffle' function _(Thank you Robert :))_. The total distance is calculated by adding up distances between all pair of cities within the route. Additionally, the class also comprises the crossover and mutation functions, enabling to production of next generations.\n",
        "\n",
        "The chosen Crossover mechanism for this problem is the Partially Mapped Problem (PMX), with the approach of utilising two perent solutions to generate two children. There are four distinct methods to generate children using this crossover, including:\n",
        "\n",
        "- Divide the parent chromosomes into three segments by randomly selecting two positions between these chromosomes.\n",
        "\n",
        "- Copy the middle segment of each parent to the corresponding position in the opposite child. This means the middle segment from the first parent is copied to the second child and the middle segment from the second parent is copied to the first child.\n",
        "\n",
        "- Establish a mapping of the genes within the middle segments to identify their relationships. This is achieved using a dictionary data structure, which helps eliminating duplication by mapping the genes of the first parent's middle segment to those of the second parent's middle segment, and vice versa.\n",
        "\n",
        "- Finally, Legalise the children chromosomes by eliminating duplicates in the left and right segments of both children. This is done by using the mapping established in the previous step to identify and replace any repeated genes outside the middle segment with their corresponding mapped values.\n",
        "\n",
        "The Mutation mechanism employed in this problem is quite straightforward; it involves randomly selecting two cities and swapping their positions.\n",
        "\n",
        "The reason fof choosing these approaches are as follow:\n",
        "\n",
        "- Representing the cities as coordinate points facilitates the use of the Euclidean distance function, which is crucial for calculating distances between cities.\n",
        "- The PMX is advantageous as it maintains the same order of genes across parents, which is useful given that each route is generated randomly.\n",
        "\n",
        "- This mutation method simplifies the process; and enable an easy game of just select and swap :).\n",
        "\n",
        "\n",
        "  _Source:_\n",
        "\n",
        "- _https://smartroutes.io/blogs/the-travelling-salesman-problem/#:~:text=There%20are%20several%20algorithms%20to,cost%20for%20the%20remaining%20pathways._\n",
        "\n",
        "- _https://www.baeldung.com/cs/ga-pmx-operator_\n",
        "\n",
        "\n",
        "---\n",
        "\n"
      ],
      "metadata": {
        "id": "-5eIa-LKsREQ"
      }
    },
    {
      "cell_type": "code",
      "execution_count": null,
      "metadata": {
        "id": "Hqtg_3MimjYL"
      },
      "outputs": [],
      "source": [
        "# Code for individual class in here\n",
        "\n",
        "class Map:\n",
        "    def __init__(self, cities):\n",
        "        self.chromosome = deepcopy(cities)\n",
        "        np.random.shuffle(self.chromosome)\n",
        "        self.cost = self.calculate_total_distance()\n",
        "\n",
        "\n",
        "\n",
        "    #return total distance by visiting the route exactly once and return to the starting city\n",
        "    def calculate_total_distance(self):\n",
        "        total_distance = 0\n",
        "        for city in range(len(self.chromosome)):\n",
        "\n",
        "            from_City = self.chromosome[city]\n",
        "\n",
        "            to_City = self.chromosome[(city + 1) % len(self.chromosome)]\n",
        "\n",
        "            total_distance += distance(from_City, to_City)\n",
        "\n",
        "        return total_distance\n",
        "\n",
        "    #Partially Mapped Crossover (PMX)\n",
        "    def crossover(self, parent_2):\n",
        "\n",
        "        child_1 = deepcopy(self)\n",
        "        child_2 = deepcopy(parent_2)\n",
        "\n",
        "        #select points\n",
        "        point_1 = np.random.randint(1, len(self.chromosome) - 50)\n",
        "        point_2 = np.random.randint(point_1 + 1, len(self.chromosome) - 1)\n",
        "\n",
        "\n",
        "        #divide parents' chromosomes by three segments (left, middle, right)\n",
        "        lSegment_Parent1, mSegment_Parent1, rSegment_Parent1 = self.divide_into_segments(point_1, point_2)\n",
        "        lSegment_Parent2, mSegment_Parent2, rSegment_Parent2 = parent_2.divide_into_segments(point_1, point_2)\n",
        "\n",
        "        #exchanging middle genes\n",
        "        child_1.chromosome[point_1:point_2] = mSegment_Parent2\n",
        "        child_2.chromosome[point_1:point_2] = mSegment_Parent1\n",
        "\n",
        "\n",
        "        #remove duplication\n",
        "        self.remove_duplicate(child_2, mSegment_Parent2, mSegment_Parent1, point_1, point_2)\n",
        "        parent_2.remove_duplicate(child_1, mSegment_Parent1, mSegment_Parent2, point_1, point_2)\n",
        "\n",
        "        return child_1, child_2\n",
        "\n",
        "    #return three segments of the chromosomes\n",
        "    def divide_into_segments(self, point1, point2):\n",
        "        leftSegment = self.chromosome[:point1]\n",
        "        middleSegment = self.chromosome[point1:point2]\n",
        "        rightSegment = self.chromosome[point2:]\n",
        "\n",
        "        return leftSegment, middleSegment, rightSegment\n",
        "\n",
        "    #removing duplicate\n",
        "    def remove_duplicate(self, child, middleSegment_1, middleSegment_2, point_1, point_2):\n",
        "\n",
        "      mapping = {middleSegment_1[i]: middleSegment_2[i] for i in range(len(middleSegment_1))}\n",
        "\n",
        "      leftSegment = self.chromosome[:point_1]\n",
        "      rightSegment = self.chromosome[point_2:]\n",
        "      combinedSegments = leftSegment + rightSegment\n",
        "\n",
        "      gapIndexes = list(range(point_1)) + list(range(point_2, len(self.chromosome)))\n",
        "\n",
        "      for index, city in zip(gapIndexes, combinedSegments):\n",
        "          original_city = city\n",
        "\n",
        "          while city in child.chromosome or city in mapping:\n",
        "              if city in mapping and city != mapping[city]:\n",
        "                  city = mapping[city]\n",
        "              else:\n",
        "                  break\n",
        "\n",
        "          # double-check duplicates\n",
        "          if city in child.chromosome:\n",
        "\n",
        "              for alternative_city in self.chromosome:\n",
        "                  if alternative_city not in child.chromosome:\n",
        "                      city = alternative_city\n",
        "                      break\n",
        "\n",
        "          child.chromosome[index] = city\n",
        "\n",
        "    #rendomly select two cities to swap\n",
        "    def mutate(self):\n",
        "\n",
        "        city_1, city_2 = random.sample(range(len(self.chromosome)), 2)\n",
        "\n",
        "        self.chromosome[city_1], self.chromosome[city_2] = self.chromosome[city_2], self.chromosome[city_1]\n",
        "\n",
        "\n"
      ]
    },
    {
      "cell_type": "code",
      "source": [
        "\"\"\"\n",
        "#verify duplicates cities - for testing\n",
        "\n",
        "def check_duplicates(route):\n",
        "    seen = set()\n",
        "    for city in route:\n",
        "        if city in seen:\n",
        "            return True\n",
        "        seen.add(city)\n",
        "    return False\n",
        "\n",
        "has_duplicates_child1 = check_duplicates(child_1.chromosome)\n",
        "has_duplicates_child2 = check_duplicates(child_2.chromosome)\n",
        "\n",
        "if has_duplicates_child1 or has_duplicates_child2:\n",
        "    print(\"There are duplicates in the children\")\n",
        "else:\n",
        "    print(\"No duplicates found\")\n",
        "\"\"\""
      ],
      "metadata": {
        "colab": {
          "base_uri": "https://localhost:8080/",
          "height": 70
        },
        "id": "JqSCbxMIytq2",
        "outputId": "093e4442-8da0-4fa3-f27e-33546076b28a"
      },
      "execution_count": null,
      "outputs": [
        {
          "output_type": "execute_result",
          "data": {
            "text/plain": [
              "'\\n#verify duplicates cities - for testing\\n\\ndef check_duplicates(route):\\n    seen = set()\\n    for city in route:\\n        if city in seen:\\n            return True  \\n        seen.add(city)\\n    return False  \\n\\nhas_duplicates_child1 = check_duplicates(child_1.chromosome)\\nhas_duplicates_child2 = check_duplicates(child_2.chromosome)\\n\\nif has_duplicates_child1 or has_duplicates_child2:\\n    print(\"There are duplicates in the children\")\\nelse:\\n    print(\"No duplicates found\")\\n'"
            ],
            "application/vnd.google.colaboratory.intrinsic+json": {
              "type": "string"
            }
          },
          "metadata": {},
          "execution_count": 94
        }
      ]
    },
    {
      "cell_type": "markdown",
      "source": [
        "## Running the algorithm  **(~10%)**\n",
        "\n",
        "*   Parameter choices\n",
        "*   Modifications (if any) to run_genetic\n",
        "*   Rationale for the above\n",
        "\n"
      ],
      "metadata": {
        "id": "59WmNNhiscZ9"
      }
    },
    {
      "cell_type": "markdown",
      "source": [
        "---\n",
        "\n",
        "(Double click then ...)  Type Here...\n",
        "\n",
        "---\n",
        "\n"
      ],
      "metadata": {
        "id": "n8BK_jFwub_j"
      }
    },
    {
      "cell_type": "code",
      "source": [
        "#  Parameter here\n",
        "\n",
        "class Parameters:\n",
        "  def __init__(self):\n",
        "    self.number_of_cities = 250\n",
        "    self.population = 500\n",
        "    self.number_of_generations = 100\n",
        "    self.child_rate_per_generation = 1"
      ],
      "metadata": {
        "id": "qYE-UMBos_nR"
      },
      "execution_count": null,
      "outputs": []
    },
    {
      "cell_type": "code",
      "source": [
        "#return two unique random indices\n",
        "def choose_indices_from(number_in_list):\n",
        "  index_1 = np.random.randint(number_in_list)\n",
        "  index_2 = np.random.randint(number_in_list)\n",
        "  if index_1 == index_2:\n",
        "    return choose_indices_from(number_in_list)\n",
        "  return index_1,index_2"
      ],
      "metadata": {
        "id": "npYIRr_G8VPs"
      },
      "execution_count": null,
      "outputs": []
    },
    {
      "cell_type": "code",
      "source": [
        "# Run Genetic method here\n",
        "\n",
        "def run_genetic(prob, params):\n",
        "\n",
        "  number_in_population = params.population\n",
        "  max_number_of_generations = params.number_of_generations\n",
        "  number_of_children_per_generation = params.child_rate_per_generation * number_in_population\n",
        "\n",
        "\n",
        "  # Generate initial population\n",
        "\n",
        "  population = []\n",
        "\n",
        "  #placeholder for best solution\n",
        "\n",
        "  best_solution = Map(prob)\n",
        "  best_solution.cost = np.infty\n",
        "  for i in range(number_in_population):\n",
        "    new_individual = Map(prob)\n",
        "    population.append(new_individual)\n",
        "\n",
        "    if new_individual.cost < best_solution.cost:\n",
        "      best_solution = deepcopy(new_individual)\n",
        "\n",
        "  #  Generational Iteration\n",
        "\n",
        "  for _iteration in range(max_number_of_generations):\n",
        "\n",
        "    # create children\n",
        "\n",
        "    children = []\n",
        "\n",
        "    while len(children) < number_of_children_per_generation:\n",
        "      parent1_index , parent2_index = choose_indices_from(len(population))\n",
        "      parent1 = population[parent1_index]\n",
        "      parent2 = population[parent2_index]\n",
        "\n",
        "      child1, child2 = parent1.crossover(parent2)\n",
        "      child1.mutate()\n",
        "      child1.cost = best_solution.cost\n",
        "      child2.mutate()\n",
        "      child2.cost = best_solution.cost\n",
        "\n",
        "      # add children in list\n",
        "      children.append(child1)\n",
        "      children.append(child2)\n",
        "      #end of the while loop\n",
        "\n",
        "    # add the children to the population\n",
        "    population += children\n",
        "    # sort the population\n",
        "    population = sorted(population, key = lambda x:x.cost)\n",
        "\n",
        "    # cull population\n",
        "    population = population[:number_in_population]\n",
        "\n",
        "    # adjust the best solution\n",
        "    if population[0].cost < best_solution.cost:\n",
        "      best_solution = deepcopy(population[0])\n",
        "\n",
        "    print(\"Best solution for iteraton \"+ str(_iteration) +\" has a cost of \"+str(best_solution.cost))\n",
        "\n",
        "\n",
        "\n",
        "  return population"
      ],
      "metadata": {
        "id": "uMURavCWtEan"
      },
      "execution_count": null,
      "outputs": []
    },
    {
      "cell_type": "code",
      "source": [
        "param = Parameters()"
      ],
      "metadata": {
        "id": "6_qrW6NN5uh2"
      },
      "execution_count": null,
      "outputs": []
    },
    {
      "cell_type": "code",
      "source": [
        "#problem\n",
        "p = [Problem(x=np.random.randint(0, 100), y=np.random.randint(0, 100)) for i in range(param.number_of_cities)]"
      ],
      "metadata": {
        "id": "Em_rUoKk5rR6"
      },
      "execution_count": null,
      "outputs": []
    },
    {
      "cell_type": "code",
      "source": [
        "#  Running of the algorithm with outputs here\n",
        "tsp = run_genetic(p,param)"
      ],
      "metadata": {
        "id": "lzt2-_8HtJtr"
      },
      "execution_count": null,
      "outputs": []
    },
    {
      "cell_type": "code",
      "source": [
        "tsp[0].chromosome"
      ],
      "metadata": {
        "id": "A7sjJXQmAiHy"
      },
      "execution_count": null,
      "outputs": []
    },
    {
      "cell_type": "code",
      "source": [
        "tsp[0].cost"
      ],
      "metadata": {
        "id": "3x-LLeHeB7D4"
      },
      "execution_count": null,
      "outputs": []
    },
    {
      "cell_type": "code",
      "source": [
        "#  If changes to params or reruns of iterations dont overwrite, create more cells and copy code down to show evolution of final solution"
      ],
      "metadata": {
        "id": "KUrAxEdDtTmf"
      },
      "execution_count": null,
      "outputs": []
    },
    {
      "cell_type": "markdown",
      "source": [
        "## Results and conclusions    **(~10%)**"
      ],
      "metadata": {
        "id": "Hupr4W2_tmZA"
      }
    },
    {
      "cell_type": "markdown",
      "source": [
        "---\n",
        "\n",
        "The results of this solution demonstrate the power of Genetic Algorithms in solving the TSP. The use of GAs for this assignment, which aims to find the shortest possible route connecting multiple cities, leverages the principles of natural selection and genetic diversit. This approach presentes significant challenges given the considerable challenge the TSP poses. Implementing GA components, such as generating random routes within the map and applying the partially mapped crossover, presented another challenges. Overcoming these obstacles necessitated a deep understanding of the TSP logic. In conclusion, while applying GAs to the TSP does not guarantee an optimal or even a satisfactory solution, since the total distance values of routes are calculated based on city pairs. Therefore, these values are known when the tour returns to the starting city. The GA simply ensures the basic correctness by applying its components to operate in generating valid offspring routes.\n",
        "\n",
        "---\n",
        "\n"
      ],
      "metadata": {
        "id": "p0Yqo3GeuVtn"
      }
    }
  ]
}